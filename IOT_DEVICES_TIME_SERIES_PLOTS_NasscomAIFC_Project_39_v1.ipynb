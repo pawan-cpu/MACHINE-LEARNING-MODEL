{
  "nbformat": 4,
  "nbformat_minor": 0,
  "metadata": {
    "colab": {
      "name": "IOT DEVICES - TIME SERIES PLOTS_NasscomAIFC_Project_39_v1.ipynb",
      "provenance": [],
      "collapsed_sections": [],
      "include_colab_link": true
    },
    "kernelspec": {
      "name": "python3",
      "display_name": "Python 3"
    }
  },
  "cells": [
    {
      "cell_type": "markdown",
      "metadata": {
        "id": "view-in-github",
        "colab_type": "text"
      },
      "source": [
        "<a href=\"https://colab.research.google.com/github/pawan-cpu/MACHINE-LEARNING-MODEL/blob/main/IOT_DEVICES_TIME_SERIES_PLOTS_NasscomAIFC_Project_39_v1.ipynb\" target=\"_parent\"><img src=\"https://colab.research.google.com/assets/colab-badge.svg\" alt=\"Open In Colab\"/></a>"
      ]
    },
    {
      "cell_type": "markdown",
      "metadata": {
        "id": "OocTROo-irrt"
      },
      "source": [
        "#  IoT Devices - Time Series Plots\n"
      ]
    },
    {
      "cell_type": "markdown",
      "metadata": {
        "id": "wOmN35jdQO68"
      },
      "source": [
        "### Context\n",
        "\n",
        "IoT devices have been around for quite a while now. They are used to collect data through different kinds of sensors such as \n",
        "Motion sensors: These use a visual sensor to detect a change in apparent temperature of surroundings  or when someone comes in the field of view of a camera.\n",
        "Heat sensors: These are used in trucks which carry perishable goods like fish and milk where changes in a temperature lower the shelf life of the produce. These are also used to detect forest fires.\n",
        "\n",
        "Vibration sensors: These are used in car crash tests and detecting if someone is trying to cut a tree.  \n",
        "\n",
        "A lot of people are using smartwatches and fitness watches to track their daily physical activities, calories burnt, average resting heart rates, sleep cycle so that they lead a fit life. Such wearables are equipped with laser sensors to collect data.\n",
        "\n",
        "Heat Index (temperature + humidity ) is one common data recorded on these IoT readers. The frequency of the upcoming data is very fast. The sensor reads hundreds to millions of data per second. There is a huge and versatile application of this data in real-world like agriculture, weather forecasting, soil monitoring and treatment, enterprise maintenance etc.\n",
        "\n",
        "Heat stress index of India.\n",
        "\n",
        "<img src='https://student-datasets-bucket.s3.ap-south-1.amazonaws.com/images/heat_index_india.png' width=600>\n"
      ]
    },
    {
      "cell_type": "markdown",
      "metadata": {
        "id": "DiBKzIYpWCzp"
      },
      "source": [
        "---"
      ]
    },
    {
      "cell_type": "markdown",
      "metadata": {
        "id": "zTSyVg4PqLI3"
      },
      "source": [
        "### Problem Statement\n",
        "\n",
        "Put yourself in the shoes of a quality analyst whose task is to test the efficacy of new IoT devices. You need to create time-series plots for daily temperature variation for the given duration and find any inconsistencies in the temperature readings (if there are any). \n",
        "\n",
        "In case the data collected through the device is correct, find the percentages of the yellow, orange and red zones. "
      ]
    },
    {
      "cell_type": "markdown",
      "metadata": {
        "id": "5AyRRYmTR3N7"
      },
      "source": [
        "---"
      ]
    },
    {
      "cell_type": "markdown",
      "metadata": {
        "id": "XxoH5SctjDtS"
      },
      "source": [
        "#### Getting Started\n",
        "\n",
        "Follow the steps described below to solve the project:\n",
        "\n",
        "1. Click on the link provided below to open the Colab file for this project.\n",
        "   \n",
        "   https://colab.research.google.com/drive/1Gm3Cur-AQsgB6vEgfNSSpmztRdYH-78x\n",
        "2. Create the duplicate copy of the Colab file. Here are the steps to create the duplicate copy:\n",
        "\n",
        "    - Click on the **File** menu. A new drop-down list will appear.\n",
        "\n",
        "      <img src='https://student-datasets-bucket.s3.ap-south-1.amazonaws.com/images/project-share-images/0_file_menu.png' width=500>\n",
        "\n",
        "    - Click on the **Save a copy in Drive** option. A duplicate copy will get created. It will open up in the new tab on your web browser.\n",
        "\n",
        "      <img src='https://student-datasets-bucket.s3.ap-south-1.amazonaws.com/images/project-share-images/1_create_colab_duplicate_copy.png' width=500>\n",
        "\n",
        "     - After creating the duplicate copy of the notebook, please rename it in the **YYYY-MM-DD_StudentName_CapstoneProject12** format. \n",
        "\n",
        "3. Now, write your code in the prescribed code cells."
      ]
    },
    {
      "cell_type": "markdown",
      "metadata": {
        "id": "ChcQuvETjMl2"
      },
      "source": [
        "---"
      ]
    },
    {
      "cell_type": "markdown",
      "metadata": {
        "id": "OvuklseNQkid"
      },
      "source": [
        "### Data Description\n",
        "\n",
        "This dataset contains the temperature readings from an IoT device installed outside and inside of an anonymous room (labelled as admin room) to test the device. The readings were taken between 11 January 2018 and 10 December 2018. Additionally, it was uninstalled or taken down quite frequently during the entire reading period. There are 5 columns and 97,605 rows in the dataset.\n",
        "\n",
        "1. `id` - unique IDs for each reading\n",
        "\n",
        "2. `room_id/id` - room id in which device was installed (inside and/or outside). In this dataset, only `Room Admin` label is used as a `room_id` for example purpose.\n",
        "\n",
        "3. `noted_date` - date and time of reading\n",
        "\n",
        "4. `temp` - temperature readings\n",
        "\n",
        "5. `out/in` - whether the reading was taken from a device installed inside or outside of the room?\n",
        "\n",
        "Here's the dataset link:\n",
        "\n",
        "https://student-datasets-bucket.s3.ap-south-1.amazonaws.com/whitehat-ds-datasets/iot-devices/IoT-device.csv"
      ]
    },
    {
      "cell_type": "markdown",
      "metadata": {
        "id": "wmta0mCwWB0e"
      },
      "source": [
        "---"
      ]
    },
    {
      "cell_type": "markdown",
      "metadata": {
        "id": "Djd0X9oJQogj"
      },
      "source": [
        "### Things To Do\n",
        "\n",
        "- What is the trend in the variation in daily indoor and outdoor temperatures?\n",
        "\n",
        "- What is the trend in the variation in monthly median indoor and outdoor temperatures?\n",
        "\n",
        "- Find out the hottest and coldest month(s).\n",
        "\n",
        "- Find the maximum and minimum temperatures recorded for each month.\n",
        "\n",
        "- Find the hottest and coldest days for each month along with the temperatures."
      ]
    },
    {
      "cell_type": "markdown",
      "metadata": {
        "id": "1_0f8iFLVzir"
      },
      "source": [
        "---"
      ]
    },
    {
      "cell_type": "markdown",
      "metadata": {
        "id": "bQT8lQviaQwX"
      },
      "source": [
        "#### 1. Import Modules & Load Dataset"
      ]
    },
    {
      "cell_type": "code",
      "metadata": {
        "id": "Y62VnVV3SjwN",
        "colab": {
          "base_uri": "https://localhost:8080/",
          "height": 206
        },
        "outputId": "27927f1c-4567-4994-bc24-840dabfdfcab"
      },
      "source": [
        "# Import the required modules and load the dataset.\n",
        "import numpy as np\n",
        "import pandas as pd\n",
        "import matplotlib.pyplot as plt\n",
        "import seaborn as sns\n",
        "import datetime \n",
        "import warnings\n",
        "warnings.filterwarnings('ignore')\n",
        "\n",
        "# Loading the dataset.\n",
        "csv_file = 'https://student-datasets-bucket.s3.ap-south-1.amazonaws.com/whitehat-ds-datasets/iot-devices/IoT-device.csv'\n",
        "df = pd.read_csv(csv_file)\n",
        "df.head()"
      ],
      "execution_count": null,
      "outputs": [
        {
          "output_type": "execute_result",
          "data": {
            "text/html": [
              "\n",
              "  <div id=\"df-44243bad-e989-40ad-a376-b70aa8615b37\">\n",
              "    <div class=\"colab-df-container\">\n",
              "      <div>\n",
              "<style scoped>\n",
              "    .dataframe tbody tr th:only-of-type {\n",
              "        vertical-align: middle;\n",
              "    }\n",
              "\n",
              "    .dataframe tbody tr th {\n",
              "        vertical-align: top;\n",
              "    }\n",
              "\n",
              "    .dataframe thead th {\n",
              "        text-align: right;\n",
              "    }\n",
              "</style>\n",
              "<table border=\"1\" class=\"dataframe\">\n",
              "  <thead>\n",
              "    <tr style=\"text-align: right;\">\n",
              "      <th></th>\n",
              "      <th>id</th>\n",
              "      <th>room_id/id</th>\n",
              "      <th>noted_date</th>\n",
              "      <th>temp</th>\n",
              "      <th>out/in</th>\n",
              "    </tr>\n",
              "  </thead>\n",
              "  <tbody>\n",
              "    <tr>\n",
              "      <th>0</th>\n",
              "      <td>__export__.temp_log_196134_bd201015</td>\n",
              "      <td>Room Admin</td>\n",
              "      <td>08-12-2018 09:30</td>\n",
              "      <td>29</td>\n",
              "      <td>In</td>\n",
              "    </tr>\n",
              "    <tr>\n",
              "      <th>1</th>\n",
              "      <td>__export__.temp_log_196131_7bca51bc</td>\n",
              "      <td>Room Admin</td>\n",
              "      <td>08-12-2018 09:30</td>\n",
              "      <td>29</td>\n",
              "      <td>In</td>\n",
              "    </tr>\n",
              "    <tr>\n",
              "      <th>2</th>\n",
              "      <td>__export__.temp_log_196127_522915e3</td>\n",
              "      <td>Room Admin</td>\n",
              "      <td>08-12-2018 09:29</td>\n",
              "      <td>41</td>\n",
              "      <td>Out</td>\n",
              "    </tr>\n",
              "    <tr>\n",
              "      <th>3</th>\n",
              "      <td>__export__.temp_log_196128_be0919cf</td>\n",
              "      <td>Room Admin</td>\n",
              "      <td>08-12-2018 09:29</td>\n",
              "      <td>41</td>\n",
              "      <td>Out</td>\n",
              "    </tr>\n",
              "    <tr>\n",
              "      <th>4</th>\n",
              "      <td>__export__.temp_log_196126_d30b72fb</td>\n",
              "      <td>Room Admin</td>\n",
              "      <td>08-12-2018 09:29</td>\n",
              "      <td>31</td>\n",
              "      <td>In</td>\n",
              "    </tr>\n",
              "  </tbody>\n",
              "</table>\n",
              "</div>\n",
              "      <button class=\"colab-df-convert\" onclick=\"convertToInteractive('df-44243bad-e989-40ad-a376-b70aa8615b37')\"\n",
              "              title=\"Convert this dataframe to an interactive table.\"\n",
              "              style=\"display:none;\">\n",
              "        \n",
              "  <svg xmlns=\"http://www.w3.org/2000/svg\" height=\"24px\"viewBox=\"0 0 24 24\"\n",
              "       width=\"24px\">\n",
              "    <path d=\"M0 0h24v24H0V0z\" fill=\"none\"/>\n",
              "    <path d=\"M18.56 5.44l.94 2.06.94-2.06 2.06-.94-2.06-.94-.94-2.06-.94 2.06-2.06.94zm-11 1L8.5 8.5l.94-2.06 2.06-.94-2.06-.94L8.5 2.5l-.94 2.06-2.06.94zm10 10l.94 2.06.94-2.06 2.06-.94-2.06-.94-.94-2.06-.94 2.06-2.06.94z\"/><path d=\"M17.41 7.96l-1.37-1.37c-.4-.4-.92-.59-1.43-.59-.52 0-1.04.2-1.43.59L10.3 9.45l-7.72 7.72c-.78.78-.78 2.05 0 2.83L4 21.41c.39.39.9.59 1.41.59.51 0 1.02-.2 1.41-.59l7.78-7.78 2.81-2.81c.8-.78.8-2.07 0-2.86zM5.41 20L4 18.59l7.72-7.72 1.47 1.35L5.41 20z\"/>\n",
              "  </svg>\n",
              "      </button>\n",
              "      \n",
              "  <style>\n",
              "    .colab-df-container {\n",
              "      display:flex;\n",
              "      flex-wrap:wrap;\n",
              "      gap: 12px;\n",
              "    }\n",
              "\n",
              "    .colab-df-convert {\n",
              "      background-color: #E8F0FE;\n",
              "      border: none;\n",
              "      border-radius: 50%;\n",
              "      cursor: pointer;\n",
              "      display: none;\n",
              "      fill: #1967D2;\n",
              "      height: 32px;\n",
              "      padding: 0 0 0 0;\n",
              "      width: 32px;\n",
              "    }\n",
              "\n",
              "    .colab-df-convert:hover {\n",
              "      background-color: #E2EBFA;\n",
              "      box-shadow: 0px 1px 2px rgba(60, 64, 67, 0.3), 0px 1px 3px 1px rgba(60, 64, 67, 0.15);\n",
              "      fill: #174EA6;\n",
              "    }\n",
              "\n",
              "    [theme=dark] .colab-df-convert {\n",
              "      background-color: #3B4455;\n",
              "      fill: #D2E3FC;\n",
              "    }\n",
              "\n",
              "    [theme=dark] .colab-df-convert:hover {\n",
              "      background-color: #434B5C;\n",
              "      box-shadow: 0px 1px 3px 1px rgba(0, 0, 0, 0.15);\n",
              "      filter: drop-shadow(0px 1px 2px rgba(0, 0, 0, 0.3));\n",
              "      fill: #FFFFFF;\n",
              "    }\n",
              "  </style>\n",
              "\n",
              "      <script>\n",
              "        const buttonEl =\n",
              "          document.querySelector('#df-44243bad-e989-40ad-a376-b70aa8615b37 button.colab-df-convert');\n",
              "        buttonEl.style.display =\n",
              "          google.colab.kernel.accessAllowed ? 'block' : 'none';\n",
              "\n",
              "        async function convertToInteractive(key) {\n",
              "          const element = document.querySelector('#df-44243bad-e989-40ad-a376-b70aa8615b37');\n",
              "          const dataTable =\n",
              "            await google.colab.kernel.invokeFunction('convertToInteractive',\n",
              "                                                     [key], {});\n",
              "          if (!dataTable) return;\n",
              "\n",
              "          const docLinkHtml = 'Like what you see? Visit the ' +\n",
              "            '<a target=\"_blank\" href=https://colab.research.google.com/notebooks/data_table.ipynb>data table notebook</a>'\n",
              "            + ' to learn more about interactive tables.';\n",
              "          element.innerHTML = '';\n",
              "          dataTable['output_type'] = 'display_data';\n",
              "          await google.colab.output.renderOutput(dataTable, element);\n",
              "          const docLink = document.createElement('div');\n",
              "          docLink.innerHTML = docLinkHtml;\n",
              "          element.appendChild(docLink);\n",
              "        }\n",
              "      </script>\n",
              "    </div>\n",
              "  </div>\n",
              "  "
            ],
            "text/plain": [
              "                                    id  room_id/id  ... temp  out/in\n",
              "0  __export__.temp_log_196134_bd201015  Room Admin  ...   29      In\n",
              "1  __export__.temp_log_196131_7bca51bc  Room Admin  ...   29      In\n",
              "2  __export__.temp_log_196127_522915e3  Room Admin  ...   41     Out\n",
              "3  __export__.temp_log_196128_be0919cf  Room Admin  ...   41     Out\n",
              "4  __export__.temp_log_196126_d30b72fb  Room Admin  ...   31      In\n",
              "\n",
              "[5 rows x 5 columns]"
            ]
          },
          "metadata": {},
          "execution_count": 1
        }
      ]
    },
    {
      "cell_type": "code",
      "metadata": {
        "id": "2eDUrqpvTIZv",
        "colab": {
          "base_uri": "https://localhost:8080/"
        },
        "outputId": "83678705-df70-435c-884d-f355aa33b5e2"
      },
      "source": [
        "# Get the information on DataFrame.\n",
        "df.info()"
      ],
      "execution_count": null,
      "outputs": [
        {
          "output_type": "stream",
          "name": "stdout",
          "text": [
            "<class 'pandas.core.frame.DataFrame'>\n",
            "RangeIndex: 97606 entries, 0 to 97605\n",
            "Data columns (total 5 columns):\n",
            " #   Column      Non-Null Count  Dtype \n",
            "---  ------      --------------  ----- \n",
            " 0   id          97606 non-null  object\n",
            " 1   room_id/id  97606 non-null  object\n",
            " 2   noted_date  97606 non-null  object\n",
            " 3   temp        97606 non-null  int64 \n",
            " 4   out/in      97606 non-null  object\n",
            "dtypes: int64(1), object(4)\n",
            "memory usage: 3.7+ MB\n"
          ]
        }
      ]
    },
    {
      "cell_type": "markdown",
      "metadata": {
        "id": "EWiqsKkOnT7J"
      },
      "source": [
        "---"
      ]
    },
    {
      "cell_type": "markdown",
      "metadata": {
        "id": "wmUC8gulmsu8"
      },
      "source": [
        "#### 2. Missing Values Check\n",
        "\n",
        "Check for the null values in the DataFrame."
      ]
    },
    {
      "cell_type": "code",
      "metadata": {
        "id": "jn-YY72GnaGz",
        "colab": {
          "base_uri": "https://localhost:8080/"
        },
        "outputId": "63fc3987-17fa-49b0-ba92-392c4f984908"
      },
      "source": [
        "# Check for the null values in the DataFrame.\n",
        "df.isnull().sum()"
      ],
      "execution_count": null,
      "outputs": [
        {
          "output_type": "execute_result",
          "data": {
            "text/plain": [
              "id            0\n",
              "room_id/id    0\n",
              "noted_date    0\n",
              "temp          0\n",
              "out/in        0\n",
              "dtype: int64"
            ]
          },
          "metadata": {},
          "execution_count": 3
        }
      ]
    },
    {
      "cell_type": "markdown",
      "metadata": {
        "id": "lHaX4i4Gni7R"
      },
      "source": [
        "**Q:** Are there any columns in the DataFrame containing the missing values? If yes, then provide the column names.\n",
        "\n",
        "**A:**No"
      ]
    },
    {
      "cell_type": "markdown",
      "metadata": {
        "id": "-gNsMM1pn4Dl"
      },
      "source": [
        "---"
      ]
    },
    {
      "cell_type": "markdown",
      "metadata": {
        "id": "rLDsqxRtn2Td"
      },
      "source": [
        "#### 3. Drop Unnecessary Columns\n",
        "\n",
        "\n",
        "Find out if there are unnecessary columns in the DataFrame. If there are any, then drop them from the DataFrame."
      ]
    },
    {
      "cell_type": "code",
      "metadata": {
        "id": "vWdxA_1KStHT"
      },
      "source": [
        "# Find out if there are unnecessary columns in the DataFrame. If there are any, then drop them from the DataFrame. \n",
        "df.drop(columns=  [\"id\" , \"room_id/id\"], axis = 1 , inplace = True)"
      ],
      "execution_count": null,
      "outputs": []
    },
    {
      "cell_type": "markdown",
      "metadata": {
        "id": "H4qGga4fHzfs"
      },
      "source": [
        "**Hint**: You can drop the columns using the `drop()` function."
      ]
    },
    {
      "cell_type": "markdown",
      "metadata": {
        "id": "7fVWyg-noVyy"
      },
      "source": [
        "---"
      ]
    },
    {
      "cell_type": "markdown",
      "metadata": {
        "id": "iRyZRBgBoXEj"
      },
      "source": [
        "#### 4. Get `datetime` Objects\n",
        "\n",
        "Convert the values contained in the `noted_date` column into the `datetime` objects."
      ]
    },
    {
      "cell_type": "code",
      "metadata": {
        "id": "WYSZvAx7S_JE",
        "colab": {
          "base_uri": "https://localhost:8080/"
        },
        "outputId": "f4fd27bb-91e8-44f7-88b0-9fd57ea602f0"
      },
      "source": [
        "# Convert the values contained in the 'noted_date' column into the 'datetime' objects.\n",
        "df[\"noted_date\"] = pd.to_datetime(df[\"noted_date\"])\n",
        "df[\"noted_date\"].head()"
      ],
      "execution_count": null,
      "outputs": [
        {
          "output_type": "execute_result",
          "data": {
            "text/plain": [
              "0   2018-08-12 09:30:00\n",
              "1   2018-08-12 09:30:00\n",
              "2   2018-08-12 09:29:00\n",
              "3   2018-08-12 09:29:00\n",
              "4   2018-08-12 09:29:00\n",
              "Name: noted_date, dtype: datetime64[ns]"
            ]
          },
          "metadata": {},
          "execution_count": 9
        }
      ]
    },
    {
      "cell_type": "code",
      "metadata": {
        "id": "oc7F-m5TTKbZ",
        "colab": {
          "base_uri": "https://localhost:8080/"
        },
        "outputId": "81c20681-ecb2-480a-ef4d-f52c3c3cc161"
      },
      "source": [
        "# Verify whether the conversion is successful or not.\n",
        "df.info()"
      ],
      "execution_count": null,
      "outputs": [
        {
          "output_type": "stream",
          "name": "stdout",
          "text": [
            "<class 'pandas.core.frame.DataFrame'>\n",
            "RangeIndex: 97606 entries, 0 to 97605\n",
            "Data columns (total 3 columns):\n",
            " #   Column      Non-Null Count  Dtype         \n",
            "---  ------      --------------  -----         \n",
            " 0   noted_date  97606 non-null  datetime64[ns]\n",
            " 1   temp        97606 non-null  int64         \n",
            " 2   out/in      97606 non-null  object        \n",
            "dtypes: datetime64[ns](1), int64(1), object(1)\n",
            "memory usage: 2.2+ MB\n"
          ]
        }
      ]
    },
    {
      "cell_type": "markdown",
      "metadata": {
        "id": "yjAPzhSWH2Wv"
      },
      "source": [
        "**Hint**: \n",
        "\n",
        " - You can convert the values into `datetime` objects using the `to_datetime()` function of the `pandas` module. \n",
        "\n",
        " - You can verify the same using the `info()` function."
      ]
    },
    {
      "cell_type": "markdown",
      "metadata": {
        "id": "Dt2AYygJo_VV"
      },
      "source": [
        "---"
      ]
    },
    {
      "cell_type": "markdown",
      "metadata": {
        "id": "PRvYhIdro_84"
      },
      "source": [
        "#### 5. Sort The DataFrame\n",
        "\n",
        "Sort the DataFrame in the chronological order."
      ]
    },
    {
      "cell_type": "code",
      "metadata": {
        "id": "mO9zU3_Oaent",
        "colab": {
          "base_uri": "https://localhost:8080/",
          "height": 363
        },
        "outputId": "68e41569-89aa-4f93-a787-7f9421099e26"
      },
      "source": [
        "# Sort the DataFrame in the increasing order of dates and time.\n",
        "df=df.sort_values(by='noted_date')\n",
        "df.head(10)"
      ],
      "execution_count": null,
      "outputs": [
        {
          "output_type": "execute_result",
          "data": {
            "text/html": [
              "\n",
              "  <div id=\"df-d8cd2c58-9f14-4aa4-b174-1ca38798a09a\">\n",
              "    <div class=\"colab-df-container\">\n",
              "      <div>\n",
              "<style scoped>\n",
              "    .dataframe tbody tr th:only-of-type {\n",
              "        vertical-align: middle;\n",
              "    }\n",
              "\n",
              "    .dataframe tbody tr th {\n",
              "        vertical-align: top;\n",
              "    }\n",
              "\n",
              "    .dataframe thead th {\n",
              "        text-align: right;\n",
              "    }\n",
              "</style>\n",
              "<table border=\"1\" class=\"dataframe\">\n",
              "  <thead>\n",
              "    <tr style=\"text-align: right;\">\n",
              "      <th></th>\n",
              "      <th>noted_date</th>\n",
              "      <th>temp</th>\n",
              "      <th>out/in</th>\n",
              "    </tr>\n",
              "  </thead>\n",
              "  <tbody>\n",
              "    <tr>\n",
              "      <th>16218</th>\n",
              "      <td>2018-01-11 00:06:00</td>\n",
              "      <td>32</td>\n",
              "      <td>In</td>\n",
              "    </tr>\n",
              "    <tr>\n",
              "      <th>16217</th>\n",
              "      <td>2018-01-11 00:07:00</td>\n",
              "      <td>40</td>\n",
              "      <td>Out</td>\n",
              "    </tr>\n",
              "    <tr>\n",
              "      <th>16216</th>\n",
              "      <td>2018-01-11 00:09:00</td>\n",
              "      <td>39</td>\n",
              "      <td>Out</td>\n",
              "    </tr>\n",
              "    <tr>\n",
              "      <th>16215</th>\n",
              "      <td>2018-01-11 00:13:00</td>\n",
              "      <td>40</td>\n",
              "      <td>Out</td>\n",
              "    </tr>\n",
              "    <tr>\n",
              "      <th>16214</th>\n",
              "      <td>2018-01-11 00:23:00</td>\n",
              "      <td>40</td>\n",
              "      <td>Out</td>\n",
              "    </tr>\n",
              "    <tr>\n",
              "      <th>16213</th>\n",
              "      <td>2018-01-11 00:25:00</td>\n",
              "      <td>40</td>\n",
              "      <td>Out</td>\n",
              "    </tr>\n",
              "    <tr>\n",
              "      <th>16212</th>\n",
              "      <td>2018-01-11 00:31:00</td>\n",
              "      <td>41</td>\n",
              "      <td>Out</td>\n",
              "    </tr>\n",
              "    <tr>\n",
              "      <th>16211</th>\n",
              "      <td>2018-01-11 00:33:00</td>\n",
              "      <td>40</td>\n",
              "      <td>Out</td>\n",
              "    </tr>\n",
              "    <tr>\n",
              "      <th>16210</th>\n",
              "      <td>2018-01-11 00:37:00</td>\n",
              "      <td>39</td>\n",
              "      <td>Out</td>\n",
              "    </tr>\n",
              "    <tr>\n",
              "      <th>16209</th>\n",
              "      <td>2018-01-11 00:41:00</td>\n",
              "      <td>41</td>\n",
              "      <td>Out</td>\n",
              "    </tr>\n",
              "  </tbody>\n",
              "</table>\n",
              "</div>\n",
              "      <button class=\"colab-df-convert\" onclick=\"convertToInteractive('df-d8cd2c58-9f14-4aa4-b174-1ca38798a09a')\"\n",
              "              title=\"Convert this dataframe to an interactive table.\"\n",
              "              style=\"display:none;\">\n",
              "        \n",
              "  <svg xmlns=\"http://www.w3.org/2000/svg\" height=\"24px\"viewBox=\"0 0 24 24\"\n",
              "       width=\"24px\">\n",
              "    <path d=\"M0 0h24v24H0V0z\" fill=\"none\"/>\n",
              "    <path d=\"M18.56 5.44l.94 2.06.94-2.06 2.06-.94-2.06-.94-.94-2.06-.94 2.06-2.06.94zm-11 1L8.5 8.5l.94-2.06 2.06-.94-2.06-.94L8.5 2.5l-.94 2.06-2.06.94zm10 10l.94 2.06.94-2.06 2.06-.94-2.06-.94-.94-2.06-.94 2.06-2.06.94z\"/><path d=\"M17.41 7.96l-1.37-1.37c-.4-.4-.92-.59-1.43-.59-.52 0-1.04.2-1.43.59L10.3 9.45l-7.72 7.72c-.78.78-.78 2.05 0 2.83L4 21.41c.39.39.9.59 1.41.59.51 0 1.02-.2 1.41-.59l7.78-7.78 2.81-2.81c.8-.78.8-2.07 0-2.86zM5.41 20L4 18.59l7.72-7.72 1.47 1.35L5.41 20z\"/>\n",
              "  </svg>\n",
              "      </button>\n",
              "      \n",
              "  <style>\n",
              "    .colab-df-container {\n",
              "      display:flex;\n",
              "      flex-wrap:wrap;\n",
              "      gap: 12px;\n",
              "    }\n",
              "\n",
              "    .colab-df-convert {\n",
              "      background-color: #E8F0FE;\n",
              "      border: none;\n",
              "      border-radius: 50%;\n",
              "      cursor: pointer;\n",
              "      display: none;\n",
              "      fill: #1967D2;\n",
              "      height: 32px;\n",
              "      padding: 0 0 0 0;\n",
              "      width: 32px;\n",
              "    }\n",
              "\n",
              "    .colab-df-convert:hover {\n",
              "      background-color: #E2EBFA;\n",
              "      box-shadow: 0px 1px 2px rgba(60, 64, 67, 0.3), 0px 1px 3px 1px rgba(60, 64, 67, 0.15);\n",
              "      fill: #174EA6;\n",
              "    }\n",
              "\n",
              "    [theme=dark] .colab-df-convert {\n",
              "      background-color: #3B4455;\n",
              "      fill: #D2E3FC;\n",
              "    }\n",
              "\n",
              "    [theme=dark] .colab-df-convert:hover {\n",
              "      background-color: #434B5C;\n",
              "      box-shadow: 0px 1px 3px 1px rgba(0, 0, 0, 0.15);\n",
              "      filter: drop-shadow(0px 1px 2px rgba(0, 0, 0, 0.3));\n",
              "      fill: #FFFFFF;\n",
              "    }\n",
              "  </style>\n",
              "\n",
              "      <script>\n",
              "        const buttonEl =\n",
              "          document.querySelector('#df-d8cd2c58-9f14-4aa4-b174-1ca38798a09a button.colab-df-convert');\n",
              "        buttonEl.style.display =\n",
              "          google.colab.kernel.accessAllowed ? 'block' : 'none';\n",
              "\n",
              "        async function convertToInteractive(key) {\n",
              "          const element = document.querySelector('#df-d8cd2c58-9f14-4aa4-b174-1ca38798a09a');\n",
              "          const dataTable =\n",
              "            await google.colab.kernel.invokeFunction('convertToInteractive',\n",
              "                                                     [key], {});\n",
              "          if (!dataTable) return;\n",
              "\n",
              "          const docLinkHtml = 'Like what you see? Visit the ' +\n",
              "            '<a target=\"_blank\" href=https://colab.research.google.com/notebooks/data_table.ipynb>data table notebook</a>'\n",
              "            + ' to learn more about interactive tables.';\n",
              "          element.innerHTML = '';\n",
              "          dataTable['output_type'] = 'display_data';\n",
              "          await google.colab.output.renderOutput(dataTable, element);\n",
              "          const docLink = document.createElement('div');\n",
              "          docLink.innerHTML = docLinkHtml;\n",
              "          element.appendChild(docLink);\n",
              "        }\n",
              "      </script>\n",
              "    </div>\n",
              "  </div>\n",
              "  "
            ],
            "text/plain": [
              "               noted_date  temp out/in\n",
              "16218 2018-01-11 00:06:00    32     In\n",
              "16217 2018-01-11 00:07:00    40    Out\n",
              "16216 2018-01-11 00:09:00    39    Out\n",
              "16215 2018-01-11 00:13:00    40    Out\n",
              "16214 2018-01-11 00:23:00    40    Out\n",
              "16213 2018-01-11 00:25:00    40    Out\n",
              "16212 2018-01-11 00:31:00    41    Out\n",
              "16211 2018-01-11 00:33:00    40    Out\n",
              "16210 2018-01-11 00:37:00    39    Out\n",
              "16209 2018-01-11 00:41:00    41    Out"
            ]
          },
          "metadata": {},
          "execution_count": 14
        }
      ]
    },
    {
      "cell_type": "markdown",
      "metadata": {
        "id": "v-0gSOVFH5Cz"
      },
      "source": [
        "**Hint**: You can sort the values by using the `sort_values()` function."
      ]
    },
    {
      "cell_type": "markdown",
      "metadata": {
        "id": "Eipd1aBBpNve"
      },
      "source": [
        "---"
      ]
    },
    {
      "cell_type": "markdown",
      "metadata": {
        "id": "Szh550y0pOWL"
      },
      "source": [
        "#### 6. Add More Features\n",
        "\n",
        "Get the year, month, day, day name, hours and minutes values from the `datetime` values and create new columns for the same."
      ]
    },
    {
      "cell_type": "code",
      "metadata": {
        "id": "YESR-mc8TLYW"
      },
      "source": [
        "# Create new columns for year, month, day, day name, hours and minutes values and add to the DataFrame.\n",
        "\n",
        "\n",
        "df['Year'] = df[\"noted_date\"].dt.year\n",
        "df['Month'] = df[\"noted_date\"].dt.month\n",
        "df['Day'] = df[\"noted_date\"].dt.day\n",
        "df['Day Name'] = df[\"noted_date\"].dt.day_name()\n",
        "df[\"hours\"]= df[\"noted_date\"].dt.hour\n",
        "df[\"minuutes\"] = df[\"noted_date\"].dt.minute"
      ],
      "execution_count": null,
      "outputs": []
    },
    {
      "cell_type": "code",
      "metadata": {
        "id": "Fw5rt9R_TW5i",
        "colab": {
          "base_uri": "https://localhost:8080/",
          "height": 206
        },
        "outputId": "096e8318-1fbb-4ff8-fe17-3bd7b701d5bc"
      },
      "source": [
        "# Display the first five rows of the DataFrame.\n",
        "df.head()"
      ],
      "execution_count": null,
      "outputs": [
        {
          "output_type": "execute_result",
          "data": {
            "text/html": [
              "\n",
              "  <div id=\"df-493ef8c7-eaa1-4524-8547-aedebe4893ee\">\n",
              "    <div class=\"colab-df-container\">\n",
              "      <div>\n",
              "<style scoped>\n",
              "    .dataframe tbody tr th:only-of-type {\n",
              "        vertical-align: middle;\n",
              "    }\n",
              "\n",
              "    .dataframe tbody tr th {\n",
              "        vertical-align: top;\n",
              "    }\n",
              "\n",
              "    .dataframe thead th {\n",
              "        text-align: right;\n",
              "    }\n",
              "</style>\n",
              "<table border=\"1\" class=\"dataframe\">\n",
              "  <thead>\n",
              "    <tr style=\"text-align: right;\">\n",
              "      <th></th>\n",
              "      <th>noted_date</th>\n",
              "      <th>temp</th>\n",
              "      <th>out/in</th>\n",
              "      <th>Year</th>\n",
              "      <th>Month</th>\n",
              "      <th>Day</th>\n",
              "      <th>Day Name</th>\n",
              "      <th>hours</th>\n",
              "      <th>minuutes</th>\n",
              "    </tr>\n",
              "  </thead>\n",
              "  <tbody>\n",
              "    <tr>\n",
              "      <th>16218</th>\n",
              "      <td>2018-01-11 00:06:00</td>\n",
              "      <td>32</td>\n",
              "      <td>In</td>\n",
              "      <td>2018</td>\n",
              "      <td>1</td>\n",
              "      <td>11</td>\n",
              "      <td>Thursday</td>\n",
              "      <td>0</td>\n",
              "      <td>6</td>\n",
              "    </tr>\n",
              "    <tr>\n",
              "      <th>16217</th>\n",
              "      <td>2018-01-11 00:07:00</td>\n",
              "      <td>40</td>\n",
              "      <td>Out</td>\n",
              "      <td>2018</td>\n",
              "      <td>1</td>\n",
              "      <td>11</td>\n",
              "      <td>Thursday</td>\n",
              "      <td>0</td>\n",
              "      <td>7</td>\n",
              "    </tr>\n",
              "    <tr>\n",
              "      <th>16216</th>\n",
              "      <td>2018-01-11 00:09:00</td>\n",
              "      <td>39</td>\n",
              "      <td>Out</td>\n",
              "      <td>2018</td>\n",
              "      <td>1</td>\n",
              "      <td>11</td>\n",
              "      <td>Thursday</td>\n",
              "      <td>0</td>\n",
              "      <td>9</td>\n",
              "    </tr>\n",
              "    <tr>\n",
              "      <th>16215</th>\n",
              "      <td>2018-01-11 00:13:00</td>\n",
              "      <td>40</td>\n",
              "      <td>Out</td>\n",
              "      <td>2018</td>\n",
              "      <td>1</td>\n",
              "      <td>11</td>\n",
              "      <td>Thursday</td>\n",
              "      <td>0</td>\n",
              "      <td>13</td>\n",
              "    </tr>\n",
              "    <tr>\n",
              "      <th>16214</th>\n",
              "      <td>2018-01-11 00:23:00</td>\n",
              "      <td>40</td>\n",
              "      <td>Out</td>\n",
              "      <td>2018</td>\n",
              "      <td>1</td>\n",
              "      <td>11</td>\n",
              "      <td>Thursday</td>\n",
              "      <td>0</td>\n",
              "      <td>23</td>\n",
              "    </tr>\n",
              "  </tbody>\n",
              "</table>\n",
              "</div>\n",
              "      <button class=\"colab-df-convert\" onclick=\"convertToInteractive('df-493ef8c7-eaa1-4524-8547-aedebe4893ee')\"\n",
              "              title=\"Convert this dataframe to an interactive table.\"\n",
              "              style=\"display:none;\">\n",
              "        \n",
              "  <svg xmlns=\"http://www.w3.org/2000/svg\" height=\"24px\"viewBox=\"0 0 24 24\"\n",
              "       width=\"24px\">\n",
              "    <path d=\"M0 0h24v24H0V0z\" fill=\"none\"/>\n",
              "    <path d=\"M18.56 5.44l.94 2.06.94-2.06 2.06-.94-2.06-.94-.94-2.06-.94 2.06-2.06.94zm-11 1L8.5 8.5l.94-2.06 2.06-.94-2.06-.94L8.5 2.5l-.94 2.06-2.06.94zm10 10l.94 2.06.94-2.06 2.06-.94-2.06-.94-.94-2.06-.94 2.06-2.06.94z\"/><path d=\"M17.41 7.96l-1.37-1.37c-.4-.4-.92-.59-1.43-.59-.52 0-1.04.2-1.43.59L10.3 9.45l-7.72 7.72c-.78.78-.78 2.05 0 2.83L4 21.41c.39.39.9.59 1.41.59.51 0 1.02-.2 1.41-.59l7.78-7.78 2.81-2.81c.8-.78.8-2.07 0-2.86zM5.41 20L4 18.59l7.72-7.72 1.47 1.35L5.41 20z\"/>\n",
              "  </svg>\n",
              "      </button>\n",
              "      \n",
              "  <style>\n",
              "    .colab-df-container {\n",
              "      display:flex;\n",
              "      flex-wrap:wrap;\n",
              "      gap: 12px;\n",
              "    }\n",
              "\n",
              "    .colab-df-convert {\n",
              "      background-color: #E8F0FE;\n",
              "      border: none;\n",
              "      border-radius: 50%;\n",
              "      cursor: pointer;\n",
              "      display: none;\n",
              "      fill: #1967D2;\n",
              "      height: 32px;\n",
              "      padding: 0 0 0 0;\n",
              "      width: 32px;\n",
              "    }\n",
              "\n",
              "    .colab-df-convert:hover {\n",
              "      background-color: #E2EBFA;\n",
              "      box-shadow: 0px 1px 2px rgba(60, 64, 67, 0.3), 0px 1px 3px 1px rgba(60, 64, 67, 0.15);\n",
              "      fill: #174EA6;\n",
              "    }\n",
              "\n",
              "    [theme=dark] .colab-df-convert {\n",
              "      background-color: #3B4455;\n",
              "      fill: #D2E3FC;\n",
              "    }\n",
              "\n",
              "    [theme=dark] .colab-df-convert:hover {\n",
              "      background-color: #434B5C;\n",
              "      box-shadow: 0px 1px 3px 1px rgba(0, 0, 0, 0.15);\n",
              "      filter: drop-shadow(0px 1px 2px rgba(0, 0, 0, 0.3));\n",
              "      fill: #FFFFFF;\n",
              "    }\n",
              "  </style>\n",
              "\n",
              "      <script>\n",
              "        const buttonEl =\n",
              "          document.querySelector('#df-493ef8c7-eaa1-4524-8547-aedebe4893ee button.colab-df-convert');\n",
              "        buttonEl.style.display =\n",
              "          google.colab.kernel.accessAllowed ? 'block' : 'none';\n",
              "\n",
              "        async function convertToInteractive(key) {\n",
              "          const element = document.querySelector('#df-493ef8c7-eaa1-4524-8547-aedebe4893ee');\n",
              "          const dataTable =\n",
              "            await google.colab.kernel.invokeFunction('convertToInteractive',\n",
              "                                                     [key], {});\n",
              "          if (!dataTable) return;\n",
              "\n",
              "          const docLinkHtml = 'Like what you see? Visit the ' +\n",
              "            '<a target=\"_blank\" href=https://colab.research.google.com/notebooks/data_table.ipynb>data table notebook</a>'\n",
              "            + ' to learn more about interactive tables.';\n",
              "          element.innerHTML = '';\n",
              "          dataTable['output_type'] = 'display_data';\n",
              "          await google.colab.output.renderOutput(dataTable, element);\n",
              "          const docLink = document.createElement('div');\n",
              "          docLink.innerHTML = docLinkHtml;\n",
              "          element.appendChild(docLink);\n",
              "        }\n",
              "      </script>\n",
              "    </div>\n",
              "  </div>\n",
              "  "
            ],
            "text/plain": [
              "               noted_date  temp out/in  Year  ...  Day  Day Name hours  minuutes\n",
              "16218 2018-01-11 00:06:00    32     In  2018  ...   11  Thursday     0         6\n",
              "16217 2018-01-11 00:07:00    40    Out  2018  ...   11  Thursday     0         7\n",
              "16216 2018-01-11 00:09:00    39    Out  2018  ...   11  Thursday     0         9\n",
              "16215 2018-01-11 00:13:00    40    Out  2018  ...   11  Thursday     0        13\n",
              "16214 2018-01-11 00:23:00    40    Out  2018  ...   11  Thursday     0        23\n",
              "\n",
              "[5 rows x 9 columns]"
            ]
          },
          "metadata": {},
          "execution_count": 18
        }
      ]
    },
    {
      "cell_type": "markdown",
      "metadata": {
        "id": "hrkRuMQ7tbEd"
      },
      "source": [
        "---"
      ]
    },
    {
      "cell_type": "markdown",
      "metadata": {
        "id": "4mxjGIHQtkl4"
      },
      "source": [
        "#### 7. Line Plots & Box Plots\n",
        "\n",
        "Create line plots and box plots for the temperature recorded in the indoor and outdoor settings."
      ]
    },
    {
      "cell_type": "code",
      "metadata": {
        "id": "v4WEDxIbZjcW",
        "colab": {
          "base_uri": "https://localhost:8080/",
          "height": 424
        },
        "outputId": "0517ca73-4a54-46b0-a852-8f3629f5d004"
      },
      "source": [
        "# Create a DataFrame for the indoor temperature records using 'df[df['out/in'] == 'In']'.\n",
        "in_temp_df=df[df['out/in'] == 'In']\n",
        "in_temp_df"
      ],
      "execution_count": null,
      "outputs": [
        {
          "output_type": "execute_result",
          "data": {
            "text/html": [
              "\n",
              "  <div id=\"df-605809fb-0b45-4e21-b02b-6c2456e41345\">\n",
              "    <div class=\"colab-df-container\">\n",
              "      <div>\n",
              "<style scoped>\n",
              "    .dataframe tbody tr th:only-of-type {\n",
              "        vertical-align: middle;\n",
              "    }\n",
              "\n",
              "    .dataframe tbody tr th {\n",
              "        vertical-align: top;\n",
              "    }\n",
              "\n",
              "    .dataframe thead th {\n",
              "        text-align: right;\n",
              "    }\n",
              "</style>\n",
              "<table border=\"1\" class=\"dataframe\">\n",
              "  <thead>\n",
              "    <tr style=\"text-align: right;\">\n",
              "      <th></th>\n",
              "      <th>noted_date</th>\n",
              "      <th>temp</th>\n",
              "      <th>out/in</th>\n",
              "      <th>Year</th>\n",
              "      <th>Month</th>\n",
              "      <th>Day</th>\n",
              "      <th>Day Name</th>\n",
              "      <th>hours</th>\n",
              "      <th>minuutes</th>\n",
              "    </tr>\n",
              "  </thead>\n",
              "  <tbody>\n",
              "    <tr>\n",
              "      <th>16218</th>\n",
              "      <td>2018-01-11 00:06:00</td>\n",
              "      <td>32</td>\n",
              "      <td>In</td>\n",
              "      <td>2018</td>\n",
              "      <td>1</td>\n",
              "      <td>11</td>\n",
              "      <td>Thursday</td>\n",
              "      <td>0</td>\n",
              "      <td>6</td>\n",
              "    </tr>\n",
              "    <tr>\n",
              "      <th>16186</th>\n",
              "      <td>2018-01-11 02:12:00</td>\n",
              "      <td>32</td>\n",
              "      <td>In</td>\n",
              "      <td>2018</td>\n",
              "      <td>1</td>\n",
              "      <td>11</td>\n",
              "      <td>Thursday</td>\n",
              "      <td>2</td>\n",
              "      <td>12</td>\n",
              "    </tr>\n",
              "    <tr>\n",
              "      <th>16176</th>\n",
              "      <td>2018-01-11 02:44:00</td>\n",
              "      <td>32</td>\n",
              "      <td>In</td>\n",
              "      <td>2018</td>\n",
              "      <td>1</td>\n",
              "      <td>11</td>\n",
              "      <td>Thursday</td>\n",
              "      <td>2</td>\n",
              "      <td>44</td>\n",
              "    </tr>\n",
              "    <tr>\n",
              "      <th>16174</th>\n",
              "      <td>2018-01-11 02:46:00</td>\n",
              "      <td>32</td>\n",
              "      <td>In</td>\n",
              "      <td>2018</td>\n",
              "      <td>1</td>\n",
              "      <td>11</td>\n",
              "      <td>Thursday</td>\n",
              "      <td>2</td>\n",
              "      <td>46</td>\n",
              "    </tr>\n",
              "    <tr>\n",
              "      <th>16167</th>\n",
              "      <td>2018-01-11 02:58:00</td>\n",
              "      <td>31</td>\n",
              "      <td>In</td>\n",
              "      <td>2018</td>\n",
              "      <td>1</td>\n",
              "      <td>11</td>\n",
              "      <td>Thursday</td>\n",
              "      <td>2</td>\n",
              "      <td>58</td>\n",
              "    </tr>\n",
              "    <tr>\n",
              "      <th>...</th>\n",
              "      <td>...</td>\n",
              "      <td>...</td>\n",
              "      <td>...</td>\n",
              "      <td>...</td>\n",
              "      <td>...</td>\n",
              "      <td>...</td>\n",
              "      <td>...</td>\n",
              "      <td>...</td>\n",
              "      <td>...</td>\n",
              "    </tr>\n",
              "    <tr>\n",
              "      <th>50723</th>\n",
              "      <td>2018-12-10 20:25:00</td>\n",
              "      <td>35</td>\n",
              "      <td>In</td>\n",
              "      <td>2018</td>\n",
              "      <td>12</td>\n",
              "      <td>10</td>\n",
              "      <td>Monday</td>\n",
              "      <td>20</td>\n",
              "      <td>25</td>\n",
              "    </tr>\n",
              "    <tr>\n",
              "      <th>50721</th>\n",
              "      <td>2018-12-10 20:35:00</td>\n",
              "      <td>34</td>\n",
              "      <td>In</td>\n",
              "      <td>2018</td>\n",
              "      <td>12</td>\n",
              "      <td>10</td>\n",
              "      <td>Monday</td>\n",
              "      <td>20</td>\n",
              "      <td>35</td>\n",
              "    </tr>\n",
              "    <tr>\n",
              "      <th>50720</th>\n",
              "      <td>2018-12-10 20:37:00</td>\n",
              "      <td>35</td>\n",
              "      <td>In</td>\n",
              "      <td>2018</td>\n",
              "      <td>12</td>\n",
              "      <td>10</td>\n",
              "      <td>Monday</td>\n",
              "      <td>20</td>\n",
              "      <td>37</td>\n",
              "    </tr>\n",
              "    <tr>\n",
              "      <th>50706</th>\n",
              "      <td>2018-12-10 21:31:00</td>\n",
              "      <td>34</td>\n",
              "      <td>In</td>\n",
              "      <td>2018</td>\n",
              "      <td>12</td>\n",
              "      <td>10</td>\n",
              "      <td>Monday</td>\n",
              "      <td>21</td>\n",
              "      <td>31</td>\n",
              "    </tr>\n",
              "    <tr>\n",
              "      <th>50705</th>\n",
              "      <td>2018-12-10 21:33:00</td>\n",
              "      <td>35</td>\n",
              "      <td>In</td>\n",
              "      <td>2018</td>\n",
              "      <td>12</td>\n",
              "      <td>10</td>\n",
              "      <td>Monday</td>\n",
              "      <td>21</td>\n",
              "      <td>33</td>\n",
              "    </tr>\n",
              "  </tbody>\n",
              "</table>\n",
              "<p>20345 rows × 9 columns</p>\n",
              "</div>\n",
              "      <button class=\"colab-df-convert\" onclick=\"convertToInteractive('df-605809fb-0b45-4e21-b02b-6c2456e41345')\"\n",
              "              title=\"Convert this dataframe to an interactive table.\"\n",
              "              style=\"display:none;\">\n",
              "        \n",
              "  <svg xmlns=\"http://www.w3.org/2000/svg\" height=\"24px\"viewBox=\"0 0 24 24\"\n",
              "       width=\"24px\">\n",
              "    <path d=\"M0 0h24v24H0V0z\" fill=\"none\"/>\n",
              "    <path d=\"M18.56 5.44l.94 2.06.94-2.06 2.06-.94-2.06-.94-.94-2.06-.94 2.06-2.06.94zm-11 1L8.5 8.5l.94-2.06 2.06-.94-2.06-.94L8.5 2.5l-.94 2.06-2.06.94zm10 10l.94 2.06.94-2.06 2.06-.94-2.06-.94-.94-2.06-.94 2.06-2.06.94z\"/><path d=\"M17.41 7.96l-1.37-1.37c-.4-.4-.92-.59-1.43-.59-.52 0-1.04.2-1.43.59L10.3 9.45l-7.72 7.72c-.78.78-.78 2.05 0 2.83L4 21.41c.39.39.9.59 1.41.59.51 0 1.02-.2 1.41-.59l7.78-7.78 2.81-2.81c.8-.78.8-2.07 0-2.86zM5.41 20L4 18.59l7.72-7.72 1.47 1.35L5.41 20z\"/>\n",
              "  </svg>\n",
              "      </button>\n",
              "      \n",
              "  <style>\n",
              "    .colab-df-container {\n",
              "      display:flex;\n",
              "      flex-wrap:wrap;\n",
              "      gap: 12px;\n",
              "    }\n",
              "\n",
              "    .colab-df-convert {\n",
              "      background-color: #E8F0FE;\n",
              "      border: none;\n",
              "      border-radius: 50%;\n",
              "      cursor: pointer;\n",
              "      display: none;\n",
              "      fill: #1967D2;\n",
              "      height: 32px;\n",
              "      padding: 0 0 0 0;\n",
              "      width: 32px;\n",
              "    }\n",
              "\n",
              "    .colab-df-convert:hover {\n",
              "      background-color: #E2EBFA;\n",
              "      box-shadow: 0px 1px 2px rgba(60, 64, 67, 0.3), 0px 1px 3px 1px rgba(60, 64, 67, 0.15);\n",
              "      fill: #174EA6;\n",
              "    }\n",
              "\n",
              "    [theme=dark] .colab-df-convert {\n",
              "      background-color: #3B4455;\n",
              "      fill: #D2E3FC;\n",
              "    }\n",
              "\n",
              "    [theme=dark] .colab-df-convert:hover {\n",
              "      background-color: #434B5C;\n",
              "      box-shadow: 0px 1px 3px 1px rgba(0, 0, 0, 0.15);\n",
              "      filter: drop-shadow(0px 1px 2px rgba(0, 0, 0, 0.3));\n",
              "      fill: #FFFFFF;\n",
              "    }\n",
              "  </style>\n",
              "\n",
              "      <script>\n",
              "        const buttonEl =\n",
              "          document.querySelector('#df-605809fb-0b45-4e21-b02b-6c2456e41345 button.colab-df-convert');\n",
              "        buttonEl.style.display =\n",
              "          google.colab.kernel.accessAllowed ? 'block' : 'none';\n",
              "\n",
              "        async function convertToInteractive(key) {\n",
              "          const element = document.querySelector('#df-605809fb-0b45-4e21-b02b-6c2456e41345');\n",
              "          const dataTable =\n",
              "            await google.colab.kernel.invokeFunction('convertToInteractive',\n",
              "                                                     [key], {});\n",
              "          if (!dataTable) return;\n",
              "\n",
              "          const docLinkHtml = 'Like what you see? Visit the ' +\n",
              "            '<a target=\"_blank\" href=https://colab.research.google.com/notebooks/data_table.ipynb>data table notebook</a>'\n",
              "            + ' to learn more about interactive tables.';\n",
              "          element.innerHTML = '';\n",
              "          dataTable['output_type'] = 'display_data';\n",
              "          await google.colab.output.renderOutput(dataTable, element);\n",
              "          const docLink = document.createElement('div');\n",
              "          docLink.innerHTML = docLinkHtml;\n",
              "          element.appendChild(docLink);\n",
              "        }\n",
              "      </script>\n",
              "    </div>\n",
              "  </div>\n",
              "  "
            ],
            "text/plain": [
              "               noted_date  temp out/in  Year  ...  Day  Day Name hours  minuutes\n",
              "16218 2018-01-11 00:06:00    32     In  2018  ...   11  Thursday     0         6\n",
              "16186 2018-01-11 02:12:00    32     In  2018  ...   11  Thursday     2        12\n",
              "16176 2018-01-11 02:44:00    32     In  2018  ...   11  Thursday     2        44\n",
              "16174 2018-01-11 02:46:00    32     In  2018  ...   11  Thursday     2        46\n",
              "16167 2018-01-11 02:58:00    31     In  2018  ...   11  Thursday     2        58\n",
              "...                   ...   ...    ...   ...  ...  ...       ...   ...       ...\n",
              "50723 2018-12-10 20:25:00    35     In  2018  ...   10    Monday    20        25\n",
              "50721 2018-12-10 20:35:00    34     In  2018  ...   10    Monday    20        35\n",
              "50720 2018-12-10 20:37:00    35     In  2018  ...   10    Monday    20        37\n",
              "50706 2018-12-10 21:31:00    34     In  2018  ...   10    Monday    21        31\n",
              "50705 2018-12-10 21:33:00    35     In  2018  ...   10    Monday    21        33\n",
              "\n",
              "[20345 rows x 9 columns]"
            ]
          },
          "metadata": {},
          "execution_count": 19
        }
      ]
    },
    {
      "cell_type": "markdown",
      "metadata": {
        "id": "ZDN4sIy3H-Jz"
      },
      "source": [
        "**Hint**: You can create a DataFrame for the indoor temperature records by `df[df['out/in'] == 'In']` and storing it in a varibale (let's say `in_temp_df`)."
      ]
    },
    {
      "cell_type": "code",
      "metadata": {
        "id": "yEnfbJ5fZ3gq",
        "colab": {
          "base_uri": "https://localhost:8080/",
          "height": 428
        },
        "outputId": "6e1e6693-1359-4daf-e774-e5e25fb55049"
      },
      "source": [
        "# Create a time series line plot for the indoor temperature records.\n",
        "plt.figure(figsize=(16,7))\n",
        "plt.plot(in_temp_df['noted_date'],in_temp_df['temp'])\n",
        "plt.show()\n",
        "\n",
        "# pass the 'noted_date' and 'temp' columns of the indoor temperature Dataframe inside the plot() function. \n"
      ],
      "execution_count": null,
      "outputs": [
        {
          "output_type": "display_data",
          "data": {
            "image/png": "[encoded data removed]",
            "text/plain": [
              "<Figure size 1152x504 with 1 Axes>"
            ]
          },
          "metadata": {
            "needs_background": "light"
          }
        }
      ]
    },
    {
      "cell_type": "markdown",
      "metadata": {
        "id": "zNTFGBYQIFWG"
      },
      "source": [
        "**Hint**: You can create a time series line plot for the indoor temperature records by passing the `noted_date` and `temp` columns of the `in_temp_df` (DataFrame for the indoor temperature records) as parameters inside the `plot()` function."
      ]
    },
    {
      "cell_type": "code",
      "metadata": {
        "id": "XYXRcAN6axgX"
      },
      "source": [
        "# Create a DataFrame for the outdoor temperature records.\n",
        "in_temp_df=df[df['out/in'] == 'out']\n",
        "in_temp_df"
      ],
      "execution_count": null,
      "outputs": []
    },
    {
      "cell_type": "code",
      "metadata": {
        "id": "n7ZcEf6Ja2Xo"
      },
      "source": [
        "# Create a time series line plot for the outdoor temperature records.\n",
        "plt.figure(figsize=(16,7))\n",
        "plt.plot(in_temp_df['noted_date'],in_temp_df['temp'])\n",
        "plt.show()"
      ],
      "execution_count": null,
      "outputs": []
    },
    {
      "cell_type": "code",
      "metadata": {
        "id": "Ocq-kgdQbIcq"
      },
      "source": [
        "# Compare the time series line plots for both the indoor and outdoor temperature records.\n",
        "plt.style.use('seaborn-dark')\n",
        "common_month_names=['March','April']\n",
        "plt.figure(figsize=(18, 6))\n",
        "plt.title(\"Comparing Monthly Median CO Concentrations in 2004 & 2005.\")\n",
        "plt.plot(group_2004_common_months['Month'], group_2004_common_months['PT08.S1(CO)'], 'yo-', label='2004') \n",
        "# The plot will be in red colour. The turning points will have filled circles.\n",
        "plt.plot(group_2005_common_months['Month'], group_2005_common_months['PT08.S1(CO)'], 'go--', label='2005') \n",
        "# The plot will be in green colour. It will have hyphenated lines & filled circles at the turning points.\n",
        "plt.ylabel('Sensor Response')\n",
        "plt.xticks(ticks=group_2004_common_months['Month'], labels=common_month_names)\n",
        "plt.legend()\n",
        "plt.grid(True)\n",
        "plt.show()"
      ],
      "execution_count": null,
      "outputs": []
    },
    {
      "cell_type": "markdown",
      "metadata": {
        "id": "wC5UnGYdIIi0"
      },
      "source": [
        "**Hint**: You can compare the time-series line plots by creating both the line plots for indoor and outdoor temperature records inside a single graph."
      ]
    },
    {
      "cell_type": "code",
      "metadata": {
        "id": "iYmjbmvsod5d"
      },
      "source": [
        "# Create a box plot to represent the distribution of indoor and outdoor temperatures for the whole year.\n",
        "plt.style.use(\"dark_background\")\n",
        "plt.figure(figsize=(18, 6))\n",
        "sns.boxplot(x='Month', y='T', data=df , hue =\"Year\")\n",
        "plt.show()"
      ],
      "execution_count": null,
      "outputs": []
    },
    {
      "cell_type": "code",
      "metadata": {
        "id": "BxaPFyIgoxtF"
      },
      "source": [
        "# Create a box plot to represent the distribution of indoor and outdoor temperatures for the whole year.\n",
        "\n",
        "# pass the 'out/in' and 'temp' columns inside the 'x' and 'y' attributes of the 'boxplot()' function.\n"
      ],
      "execution_count": null,
      "outputs": []
    },
    {
      "cell_type": "markdown",
      "metadata": {
        "id": "e_I9fHjCIKdS"
      },
      "source": [
        "**Hint**: You can achieve the above task by passing the `out/in`  column inside `x` and `temp` column inside `y` attributes of the `boxplot()` function"
      ]
    },
    {
      "cell_type": "markdown",
      "metadata": {
        "id": "t8KpqnWzwipX"
      },
      "source": [
        "---"
      ]
    },
    {
      "cell_type": "markdown",
      "metadata": {
        "id": "iDocSROFw6w-"
      },
      "source": [
        "#### 8. Grouping, Aggregation & More Plots\n",
        "\n",
        "Group the data by the indoor and outdoor temperatures. Also, get monthly mean, standard deviation, median, minimum and maximum values for both the indoor and outdoor groups.\n"
      ]
    },
    {
      "cell_type": "code",
      "metadata": {
        "id": "GRUIeXRTTXyT"
      },
      "source": [
        "# Get the maximum and minimum temperatures for each day in each month.\n",
        "df.agg(func={'indoor': ['min', 'max'], 'outdoor' : ['min', 'max'], 'groups' : 'count'})"
      ],
      "execution_count": null,
      "outputs": []
    },
    {
      "cell_type": "code",
      "source": [
        "df.agg(func={'indoor': ['mean', 'std', 'median'], 'outdoor' : 'max', 'groups' : 'count'})"
      ],
      "metadata": {
        "id": "QvPftoYiWXGA"
      },
      "execution_count": null,
      "outputs": []
    },
    {
      "cell_type": "markdown",
      "metadata": {
        "id": "OsLonc3IIVCx"
      },
      "source": [
        "**Hints**:\n",
        "\n",
        "- You can get the temperature for each day in each month by passing both `month` and `day` (columns) inside the `by` parameter (in square braces) of the `groupby()` function.\n",
        "\n",
        "- You can get the maximum and minimum values from the output obtained through the `groupby()` function. To do so you can use the `agg()` function."
      ]
    },
    {
      "cell_type": "code",
      "metadata": {
        "id": "-6-bcg9gT49F"
      },
      "source": [
        "# Create a bar plot for the monthly median indoor & outdoor temperatures in a single bar chart.\n",
        "plt.figure(figsize=(15,5))\n",
        "plt.bar(x=np.arange(0,10),height=group_2004_month.median()['T'],width=0.4)\n",
        "plt.show()"
      ],
      "execution_count": null,
      "outputs": []
    },
    {
      "cell_type": "markdown",
      "metadata": {
        "id": "fYXD6HAPIdIL"
      },
      "source": [
        "**Hint**: You can use the `estimator` attribute of the `barplot()` function to plot the monthly median and the `hue` attribute to plot both indoor and outdoor temperatures in a single bar chart."
      ]
    },
    {
      "cell_type": "markdown",
      "metadata": {
        "id": "MlLpJHEiIgSu"
      },
      "source": [
        "**Q:** Which months were the hottest and coldest months?\n",
        "\n",
        "**A:** "
      ]
    },
    {
      "cell_type": "code",
      "metadata": {
        "id": "xE1B0jP6V-WI"
      },
      "source": [
        "# Create a line plot for the monthly median outdoor temperatures.\n"
      ],
      "execution_count": null,
      "outputs": []
    },
    {
      "cell_type": "code",
      "metadata": {
        "id": "9GvK8croY6_-"
      },
      "source": [
        "# Compare the monthly median indoor and outdoor temperatures.\n"
      ],
      "execution_count": null,
      "outputs": []
    },
    {
      "cell_type": "code",
      "metadata": {
        "id": "mEzrZBatumbS"
      },
      "source": [
        "# Create a bar plot for the monthly median indoor & outdoor temperatures in a single bar chart.\n"
      ],
      "execution_count": null,
      "outputs": []
    },
    {
      "cell_type": "markdown",
      "metadata": {
        "id": "k3fwyj_ILHP0"
      },
      "source": [
        "**Q:** Which months were the hottest and coldest months?\n",
        "\n",
        "**A:** "
      ]
    },
    {
      "cell_type": "markdown",
      "metadata": {
        "id": "_Oh253fuAooa"
      },
      "source": [
        "---"
      ]
    },
    {
      "cell_type": "markdown",
      "metadata": {
        "id": "pPOtedt3ApVh"
      },
      "source": [
        "#### 9. Find the Hottest and Coldest days\n",
        "\n",
        "Create box plots to represent the monthly distribution of indoor and outdoor temperatures.\n",
        "\n"
      ]
    },
    {
      "cell_type": "code",
      "metadata": {
        "id": "Nv5czG2i4bIu"
      },
      "source": [
        "# Create a box plot to represent the monthly distribution of indoor and outdoor temperatures. Also label the x-axis with actual month names.\n"
      ],
      "execution_count": null,
      "outputs": []
    },
    {
      "cell_type": "markdown",
      "metadata": {
        "id": "2EEXm79dJZJA"
      },
      "source": [
        "**Hint**: You can label the x-axis with actual month names by passing the list of months inside the `labels` attribute and `np.arrange(12)` inside the `ticks` attribute of the `xticks()` function."
      ]
    },
    {
      "cell_type": "markdown",
      "metadata": {
        "id": "66J2uq5BJxda"
      },
      "source": [
        "#### 9.1 Compare the monthly median indoor and outdoor temperatures.\n",
        "\n",
        "Group the data by the indoor and outdoor temperatures. Also, get monthly mean, standard deviation, median, minimum, and maximum values for both the indoor and outdoor groups.\n"
      ]
    },
    {
      "cell_type": "code",
      "metadata": {
        "id": "aY18Z0mlQCIe"
      },
      "source": [
        "# Group the data to get the monthly median indoor and outdoor temperatures along with the max and minimum temperatures.\n"
      ],
      "execution_count": null,
      "outputs": []
    },
    {
      "cell_type": "code",
      "metadata": {
        "id": "eT1x8B8BJcX_"
      },
      "source": [
        "# Create a line plot for the monthly median indoor temperatures.\n"
      ],
      "execution_count": null,
      "outputs": []
    },
    {
      "cell_type": "code",
      "metadata": {
        "id": "PfRaTMSYJe4U"
      },
      "source": [
        "# Create a line plot for the monthly median outdoor temperatures.\n"
      ],
      "execution_count": null,
      "outputs": []
    },
    {
      "cell_type": "code",
      "metadata": {
        "id": "-Guxoqu0Jfnm"
      },
      "source": [
        "# Compare the monthly median indoor and outdoor temperatures.\n"
      ],
      "execution_count": null,
      "outputs": []
    },
    {
      "cell_type": "markdown",
      "metadata": {
        "id": "gL27VznJJjWO"
      },
      "source": [
        "#### 9.2 Get the hottest day and coldest day for each month along with their respective temperature.\n"
      ]
    },
    {
      "cell_type": "code",
      "metadata": {
        "id": "wT-vpmpEJmJe"
      },
      "source": [
        "# Group the data to get the monthly median indoor and outdoor temperatures along with the max and minimum temperatures.\n"
      ],
      "execution_count": null,
      "outputs": []
    },
    {
      "cell_type": "code",
      "metadata": {
        "id": "pZgw2TqYJsjl"
      },
      "source": [
        "# Get the hottest day for each month along with the temperature.\n",
        "\n",
        "\n",
        "# Define a 'for' loop that iterates from 1 to 13 (months)\n",
        "\n",
        "  # Create a Dataframe by using the 'get_group()' function in a 'for' loop to access values of each month\n",
        "  \n",
        "  # Locate the row with maximum temperature from the 'temp' column using the 'loc[]' function\n",
        "  \n",
        "  # Locate the day with maximum temperature from the 'day' column using the 'loc[]' function\n",
        "  \n",
        "  # Append the maximum day and temperature for each month in a list one by one\n",
        "  \n"
      ],
      "execution_count": null,
      "outputs": []
    },
    {
      "cell_type": "markdown",
      "metadata": {
        "id": "gHX0ItbEJUnR"
      },
      "source": [
        "**Hint**: You can create an empty list (let's say `hottest_days[]`) and then append the day with maximum temperature for each month one by one using a `for` loop. \n",
        "\n",
        "You can locate the day with maximum temperature by using the `max()` function on top of the `loc[]` function."
      ]
    },
    {
      "cell_type": "code",
      "metadata": {
        "id": "8YcJwHCyysyj"
      },
      "source": [
        "# Get the coldest day for each month along with the temperature.\n"
      ],
      "execution_count": null,
      "outputs": []
    },
    {
      "cell_type": "markdown",
      "metadata": {
        "id": "5zkCGBaIKHOC"
      },
      "source": [
        "---"
      ]
    },
    {
      "cell_type": "markdown",
      "metadata": {
        "id": "T5lOSmlF6Mnb"
      },
      "source": [
        "### Submitting the Project\n",
        "\n",
        "Follow the steps described below to submit the project.\n",
        "\n",
        "1. After finishing the project, click on the **Share** button on the top right corner of the notebook. A new dialog box will appear.\n",
        "\n",
        "  <img src='https://student-datasets-bucket.s3.ap-south-1.amazonaws.com/images/project-share-images/2_share_button.png' width=500>\n",
        "\n",
        "2. In the dialog box, click on the **Copy link** button.\n",
        "\n",
        "   <img src='https://student-datasets-bucket.s3.ap-south-1.amazonaws.com/images/project-share-images/3_copy_link.png' width=500>\n",
        "\n",
        "\n",
        "3. The link of the duplicate copy (named as **YYYY-MM-DD_StudentName_CapstoneProject12**) of the notebook will get copied \n",
        "\n",
        "   <img src='https://student-datasets-bucket.s3.ap-south-1.amazonaws.com/images/project-share-images/4_copy_link_confirmation.png' width=500>\n",
        "\n",
        "4. Go to your dashboard and click on the **My Projects** option.\n",
        "\n",
        "   <img src='https://student-datasets-bucket.s3.ap-south-1.amazonaws.com/images/project-share-images/5_student_dashboard.png' width=800>\n",
        "\n",
        "   <img src='https://student-datasets-bucket.s3.ap-south-1.amazonaws.com/images/project-share-images/6_my_projects.png' width=800>\n",
        "\n",
        "5. Click on the **View Project** button for the project you want to submit.\n",
        "\n",
        "   <img src='https://student-datasets-bucket.s3.ap-south-1.amazonaws.com/images/project-share-images/7_view_project.png' width=800>\n",
        "\n",
        "6. Click on the **Submit Project Here** button.\n",
        "\n",
        "   <img src='https://student-datasets-bucket.s3.ap-south-1.amazonaws.com/images/project-share-images/8_submit_project.png' width=800>\n",
        "\n",
        "7. Paste the link to the project file named as **YYYY-MM-DD_StudentName_CapstoneProject12** in the URL box and then click on the **Submit** button.\n",
        "\n",
        "   <img src='https://student-datasets-bucket.s3.ap-south-1.amazonaws.com/images/project-share-images/9_enter_project_url.png' width=800>\n"
      ]
    },
    {
      "cell_type": "markdown",
      "metadata": {
        "id": "LSDeGAZj6L5N"
      },
      "source": [
        "---"
      ]
    }
  ]
}