{
  "nbformat": 4,
  "nbformat_minor": 0,
  "metadata": {
    "colab": {
      "name": "EXPECTED VALUE & CONTINUOUS PROBABILITY_ Applied Tech. Project 48_v1",
      "provenance": [],
      "collapsed_sections": [],
      "include_colab_link": true
    },
    "kernelspec": {
      "name": "python3",
      "display_name": "Python 3"
    }
  },
  "cells": [
    {
      "cell_type": "markdown",
      "metadata": {
        "id": "view-in-github",
        "colab_type": "text"
      },
      "source": [
        "<a href=\"https://colab.research.google.com/github/pawan-cpu/MACHINE-LEARNING-MODEL/blob/main/EXPECTED_VALUE_%26_CONTINUOUS_PROBABILITY__Applied_Tech_Project_48_v1.ipynb\" target=\"_parent\"><img src=\"https://colab.research.google.com/assets/colab-badge.svg\" alt=\"Open In Colab\"/></a>"
      ]
    },
    {
      "cell_type": "markdown",
      "metadata": {
        "id": "YZnBY81YDCCr"
      },
      "source": [
        "### Instructions"
      ]
    },
    {
      "cell_type": "markdown",
      "metadata": {
        "id": "fIKnY8occu37"
      },
      "source": [
        "#### Goal of the Project\n",
        "\n",
        "This project is designed for you to practice and solve the activities that are based on the concepts covered in the following lessons:\n",
        "\n",
        "1. Probability Calculation For Gambling"
      ]
    },
    {
      "cell_type": "markdown",
      "metadata": {
        "id": "9oVvUZZCPxxl"
      },
      "source": [
        "---"
      ]
    },
    {
      "cell_type": "markdown",
      "metadata": {
        "id": "wzLiEECq6yqa"
      },
      "source": [
        "#### Getting Started\n",
        "\n",
        "Follow the steps described below to solve the project:\n",
        "\n",
        "1. Click on the link provided below to open the Colab file for this project.\n",
        "   \n",
        "   https://colab.research.google.com/drive/1CjDwIs1Fv0VbWZiI0f4krkodPLHRNQlQ \n",
        "   \n",
        "2. Create the duplicate copy of the Colab file. Here are the steps to create the duplicate copy:\n",
        "\n",
        "    - Click on the **File** menu. A new drop-down list will appear.\n",
        "\n",
        "      <img src='https://student-datasets-bucket.s3.ap-south-1.amazonaws.com/images/project-share-images/0_file_menu.png' width=500>\n",
        "\n",
        "    - Click on the **Save a copy in Drive** option. A duplicate copy will get created. It will open up in the new tab on your web browser.\n",
        "\n",
        "      <img src='https://student-datasets-bucket.s3.ap-south-1.amazonaws.com/images/project-share-images/1_create_colab_duplicate_copy.png' width=500>\n",
        "\n",
        "     - After creating the duplicate copy of the notebook, please rename it in the **YYYY-MM-DD_StudentName_Project48** format. \n",
        "\n",
        "3. Now, write your code in the prescribed code cells."
      ]
    },
    {
      "cell_type": "markdown",
      "metadata": {
        "id": "F7fgsdtR6yIi"
      },
      "source": [
        "---"
      ]
    },
    {
      "cell_type": "markdown",
      "metadata": {
        "id": "H0P9F3DUf8x2"
      },
      "source": [
        "### Activities\n",
        "\n",
        "\n",
        "  "
      ]
    },
    {
      "cell_type": "markdown",
      "metadata": {
        "id": "0dG-Pm9-UpYh"
      },
      "source": [
        "#### Activity 1: Calculate the Probability of a Random Variable\n",
        "\n",
        "Calculate the probability of solving 35 questions correctly by fluke in an MCQ test having 250 questions (each question have 4 options)."
      ]
    },
    {
      "cell_type": "markdown",
      "metadata": {
        "id": "lbkpfsH90fmX"
      },
      "source": [
        "**Steps to follow:**\n",
        "\n",
        "1. Create a function to calculate the factorial of a number. It takes an integer as an input for which the factorial value needs to be calculated.\n",
        "\n",
        "2. Create a function to calculate the probability of a random variable. It takes the total number of trials `num_trials`, a random variable `random_var` and the probability of success `prob_success` as inputs.\n",
        "\n",
        "   - First, calculate the value of ${}^nC_{r} = \\frac{n!}{(n - r)! \\times r!}$ and store in the `num_trials_choose_random_var` variable.\n",
        "\n",
        "   - Then calculate the probability of random variable $P(X = r) = {}^nC_r \\times s^r \\times f^{n - r}$ and store in the `prob_random_var` variable.\n",
        "\n",
        "   - The function returns the value of `prob_random_var`. \n",
        "\n",
        "   - Note that the probability of failure is `1 - prob_success`.\n",
        "\n"
      ]
    },
    {
      "cell_type": "code",
      "metadata": {
        "id": "yYlWfTFxUx8C",
        "colab": {
          "base_uri": "https://localhost:8080/"
        },
        "outputId": "e0d28279-957f-4f64-b9fa-1cbf0a98c7eb"
      },
      "source": [
        "# Write your solution here\n",
        "# Function to calculate the factorial value of a number 'n'.\n",
        "def factorial(n):\n",
        "  fact = 1\n",
        "  if n<0:\n",
        "    return \"not defined\"\n",
        "  else:\n",
        "    while n>0:\n",
        "      fact = fact * n\n",
        "      n = n - 1\n",
        "    return fact\n",
        "\n",
        "\n",
        "# Function to calculate the probability of a random variable X = r.\n",
        "def prob_random_var(n  , r , s):\n",
        "  ncr = factorial(n) / (factorial(n-r) * factorial(r))\n",
        "  prob  =  ncr * (s**r)*((1-s)**(n-r))\n",
        "  return prob\n",
        "\n",
        "prob_random_var(4 , 1 , 0.25)"
      ],
      "execution_count": null,
      "outputs": [
        {
          "output_type": "execute_result",
          "data": {
            "text/plain": [
              "0.421875"
            ]
          },
          "metadata": {},
          "execution_count": 4
        }
      ]
    },
    {
      "cell_type": "code",
      "metadata": {
        "id": "UH49gwH01d6y",
        "colab": {
          "base_uri": "https://localhost:8080/"
        },
        "outputId": "bd73b962-3ef0-41dc-db31-4114aa72431c"
      },
      "source": [
        "# The probability of solving say 35 questions correctly by fluke in an MCQ test having 250 questions\n",
        "prob_random_var(250 , 35  , 0.25)"
      ],
      "execution_count": null,
      "outputs": [
        {
          "output_type": "execute_result",
          "data": {
            "text/plain": [
              "7.852228190689143e-06"
            ]
          },
          "metadata": {},
          "execution_count": 3
        }
      ]
    },
    {
      "cell_type": "markdown",
      "metadata": {
        "id": "IFCRnH0R7qxr"
      },
      "source": [
        "**Question**: What is the probability of solving say 35 questions correctly by fluke in an MCQ test having 250 questions?\n",
        "\n",
        "**Answers**: "
      ]
    },
    {
      "cell_type": "markdown",
      "metadata": {
        "id": "ftOXrP5NUzsZ"
      },
      "source": [
        "---"
      ]
    },
    {
      "cell_type": "markdown",
      "metadata": {
        "id": "BVT9G_baB1aq"
      },
      "source": [
        "#### Activity 2: Calculate the Expected Value\n",
        "\n",
        "Find out the average number of questions that can be solved correctly by fluke in an MCQ test having 300 questions."
      ]
    },
    {
      "cell_type": "code",
      "metadata": {
        "id": "0pIGxKG9B3mb",
        "colab": {
          "base_uri": "https://localhost:8080/"
        },
        "outputId": "25332820-4604-4b92-f9bf-7157ba2ad2a5"
      },
      "source": [
        "# Find the average number of questions that can be solved correctly by fluke in an MCQ test having 300 questions.\n",
        "import numpy as np\n",
        "x=np.arange(0,301)\n",
        "prob_list=[prob_random_var(300,i,0.25) for i in range(301)]\n",
        "prob_arr=np.array(prob_list)\n",
        "add=np.sum(x*prob_arr)\n",
        "add"
      ],
      "execution_count": null,
      "outputs": [
        {
          "output_type": "execute_result",
          "data": {
            "text/plain": [
              "75.0"
            ]
          },
          "metadata": {},
          "execution_count": 6
        }
      ]
    },
    {
      "cell_type": "markdown",
      "metadata": {
        "id": "vs0_a78w403t"
      },
      "source": [
        "**Question**: How many average number questions can be solved correctly by fluke in an MCQ test having 300 questions?\n",
        "\n",
        "**Answers**: 75"
      ]
    },
    {
      "cell_type": "markdown",
      "metadata": {
        "id": "5toUGCya4OR_"
      },
      "source": [
        "**Hints**:\n",
        "\n",
        "1. Use the concept of expected value. The expected value is the sum of the product of the random variables with their corresponding probabilities.\n",
        "\n",
        "2. Let $X$ be a random variable denoting $N$ events $x_1, x_2, x_3 \\dots x_N$ and let $p(x_1), p(x_2), p(x_3) \\dots p(x_N)$ be their corresponding probabilities, then the expected value $E(X)$ is given by \n",
        "\n",
        "$$E(X) = x_1 p(x_1) + x_2 p(x_2) + x_3 p(x_3) + \\dots + x_N p(x_N)$$\n"
      ]
    },
    {
      "cell_type": "markdown",
      "metadata": {
        "id": "IJIZASayCpEW"
      },
      "source": [
        "---"
      ]
    },
    {
      "cell_type": "markdown",
      "metadata": {
        "id": "F5-pRf7_Psj2"
      },
      "source": [
        "### Submitting the Project\n",
        "\n",
        "Follow the steps described below to submit the project.\n",
        "\n",
        "1. After finishing the project, click on the **Share** button on the top right corner of the notebook. A new dialog box will appear.\n",
        "\n",
        "  <img src='https://student-datasets-bucket.s3.ap-south-1.amazonaws.com/images/project-share-images/2_share_button.png' width=500>\n",
        "\n",
        "2. In the dialog box, click on the **Copy link** button.\n",
        "\n",
        "   <img src='https://student-datasets-bucket.s3.ap-south-1.amazonaws.com/images/project-share-images/3_copy_link.png' width=500>\n",
        "\n",
        "\n",
        "3. The link of the duplicate copy (named as **YYYY-MM-DD_StudentName_Project48**) of the notebook will get copied \n",
        "\n",
        "   <img src='https://student-datasets-bucket.s3.ap-south-1.amazonaws.com/images/project-share-images/4_copy_link_confirmation.png' width=500>\n",
        "\n",
        "4. Go to your dashboard and click on the **My Projects** option.\n",
        "\n",
        "   <img src='https://student-datasets-bucket.s3.ap-south-1.amazonaws.com/images/project-share-images/5_student_dashboard.png' width=800>\n",
        "\n",
        "   <img src='https://student-datasets-bucket.s3.ap-south-1.amazonaws.com/images/project-share-images/6_my_projects.png' width=800>\n",
        "\n",
        "5. Click on the **View Project** button for the project you want to submit.\n",
        "\n",
        "   <img src='https://student-datasets-bucket.s3.ap-south-1.amazonaws.com/images/project-share-images/7_view_project.png' width=800>\n",
        "\n",
        "6. Click on the **Submit Project Here** button.\n",
        "\n",
        "   <img src='https://student-datasets-bucket.s3.ap-south-1.amazonaws.com/images/project-share-images/8_submit_project.png' width=800>\n",
        "\n",
        "7. Paste the link to the project file named as **YYYY-MM-DD_StudentName_Project48** in the URL box and then click on the **Submit** button.\n",
        "\n",
        "   <img src='https://student-datasets-bucket.s3.ap-south-1.amazonaws.com/images/project-share-images/9_enter_project_url.png' width=800>\n"
      ]
    },
    {
      "cell_type": "markdown",
      "metadata": {
        "id": "JNNwtcANPrQO"
      },
      "source": [
        "---"
      ]
    }
  ]
}