{
  "nbformat": 4,
  "nbformat_minor": 0,
  "metadata": {
    "colab": {
      "name": "PIE CHART & BELL CURVE_Tech_Project_45_v0.3.ipynb",
      "provenance": [],
      "collapsed_sections": [],
      "include_colab_link": true
    },
    "kernelspec": {
      "name": "python3",
      "display_name": "Python 3"
    }
  },
  "cells": [
    {
      "cell_type": "markdown",
      "metadata": {
        "id": "view-in-github",
        "colab_type": "text"
      },
      "source": [
        "<a href=\"https://colab.research.google.com/github/pawan-cpu/MACHINE-LEARNING-MODEL/blob/main/PIE_CHART_%26_BELL_CURVE_Tech_Project_45_v0_3.ipynb\" target=\"_parent\"><img src=\"https://colab.research.google.com/assets/colab-badge.svg\" alt=\"Open In Colab\"/></a>"
      ]
    },
    {
      "cell_type": "markdown",
      "metadata": {
        "id": "YZnBY81YDCCr"
      },
      "source": [
        "### Instructions"
      ]
    },
    {
      "cell_type": "markdown",
      "metadata": {
        "id": "fIKnY8occu37"
      },
      "source": [
        "#### Goal of the Project\n",
        "\n",
        "This project is designed for you to practice and solve the activities that are based on the concepts covered in the following lesson:\n",
        "\n",
        "1. Pie Chart and Bell Curve\n"
      ]
    },
    {
      "cell_type": "markdown",
      "metadata": {
        "id": "BBqkpH4_Doqe"
      },
      "source": [
        "---"
      ]
    },
    {
      "cell_type": "markdown",
      "metadata": {
        "id": "fImtHO50TafP"
      },
      "source": [
        "#### Getting Started\n",
        "\n",
        "Follow the steps described below to solve the project:\n",
        "\n",
        "1. Click on the link provided below to open the Colab file for this project.\n",
        "   \n",
        "   https://colab.research.google.com/drive/1jkdI8bfqNaVpi_Yvdavh9L7PIKq3u48C\n",
        "\n",
        "2. Create the duplicate copy of the Colab file. Here are the steps to create the duplicate copy:\n",
        "\n",
        "    - Click on the **File** menu. A new drop-down list will appear.\n",
        "\n",
        "      <img src='https://student-datasets-bucket.s3.ap-south-1.amazonaws.com/images/project-share-images/0_file_menu.png' width=500>\n",
        "\n",
        "    - Click on the **Save a copy in Drive** option. A duplicate copy will get created. It will open up in the new tab on your web browser.\n",
        "\n",
        "      <img src='https://student-datasets-bucket.s3.ap-south-1.amazonaws.com/images/project-share-images/1_create_colab_duplicate_copy.png' width=500>\n",
        "\n",
        "     - After creating the duplicate copy of the notebook, please rename it in the **YYYY-MM-DD_StudentName_Project45** format. \n",
        "\n",
        "3. Now, write your code in the prescribed code cells."
      ]
    },
    {
      "cell_type": "markdown",
      "metadata": {
        "id": "bXn2I32ZTY5u"
      },
      "source": [
        "---"
      ]
    },
    {
      "cell_type": "markdown",
      "metadata": {
        "id": "0u8v9bQFfEFT"
      },
      "source": [
        "### Activities"
      ]
    },
    {
      "cell_type": "markdown",
      "metadata": {
        "id": "CzoR_zE1rz0t"
      },
      "source": [
        "### Activity 1: Create a pie chart \n",
        "\n",
        "Given below the data of different luxury car sales per month in two separate lists. Create a pie chart, slice it and label the slices with the brand names of the cars and also calculate the percentage of car sales for each brand.\n",
        "\n",
        "List of car brands and their corresponding sales data:\n",
        "\n",
        "```\n",
        "car_brand = ['AUDI', 'BMW', 'FORD', 'TESLA', 'JAGUAR', 'MERCEDES'] \n",
        "sales_data = [23, 17, 35, 29, 12, 41] \n",
        "```\n",
        "\n",
        "**Note:** Consider the values in `car_brand` list as labels of the pie chart and `sales_data` list as the actual dataset."
      ]
    },
    {
      "cell_type": "code",
      "metadata": {
        "id": "izXCvjP8r0z9",
        "outputId": "c1779bf3-284b-40c8-c8be-c7b9840c0003",
        "colab": {
          "base_uri": "https://localhost:8080/",
          "height": 236
        }
      },
      "source": [
        "# Create a pie chart for the data provided above.\n",
        "# Import the 'matplotlib.pyplot' and 'numpy' packages\n",
        "import numpy as np\n",
        "import pandas as pd\n",
        "import matplotlib.pyplot as plt\n",
        "import seaborn as sns\n",
        "\n",
        "# List of car brands and their sales data\n",
        "car_brands = ['AUDI', 'BMW', 'FORD', 'TESLA', 'JAGUAR', 'MERCEDES']   \n",
        "sales_data = [23, 17, 35, 29, 12, 41] \n",
        "\n",
        "# Store the slices in 'explode' variable '(0.1, 0.0, 0.2, 0.3, 0.0, 0.0)'\n",
        "explode=[0.1, 0.0, 0.2, 0.3, 0.0, 0.0]\n",
        "data=sales_data[''].value_counts()\n",
        "label=car_brand\n",
        "plt.figure(dpi=100)\n",
        "plt.pie(data,labels=label,wedgeprops={'edgecolor':'red'},autopct='%1.1f%%',explode=explode)\n",
        "plt.show()\n",
        "# Give the title of the pie chart as 'Percentage of Luxury car sales'.\n",
        "\n",
        "# Create the pie chart using the 'pie()' function and separate the slices using the 'explode' parameter.\n"
      ],
      "execution_count": null,
      "outputs": [
        {
          "output_type": "error",
          "ename": "NameError",
          "evalue": "ignored",
          "traceback": [
            "\u001b[0;31m---------------------------------------------------------------------------\u001b[0m",
            "\u001b[0;31mNameError\u001b[0m                                 Traceback (most recent call last)",
            "\u001b[0;32m<ipython-input-7-b1ceebf53589>\u001b[0m in \u001b[0;36m<module>\u001b[0;34m()\u001b[0m\n\u001b[1;32m     12\u001b[0m \u001b[0;31m# Store the slices in 'explode' variable '(0.1, 0.0, 0.2, 0.3, 0.0, 0.0)'\u001b[0m\u001b[0;34m\u001b[0m\u001b[0;34m\u001b[0m\u001b[0;34m\u001b[0m\u001b[0m\n\u001b[1;32m     13\u001b[0m \u001b[0mexplode\u001b[0m\u001b[0;34m=\u001b[0m\u001b[0;34m[\u001b[0m\u001b[0;36m0.1\u001b[0m\u001b[0;34m,\u001b[0m \u001b[0;36m0.0\u001b[0m\u001b[0;34m,\u001b[0m \u001b[0;36m0.2\u001b[0m\u001b[0;34m,\u001b[0m \u001b[0;36m0.3\u001b[0m\u001b[0;34m,\u001b[0m \u001b[0;36m0.0\u001b[0m\u001b[0;34m,\u001b[0m \u001b[0;36m0.0\u001b[0m\u001b[0;34m]\u001b[0m\u001b[0;34m\u001b[0m\u001b[0;34m\u001b[0m\u001b[0m\n\u001b[0;32m---> 14\u001b[0;31m \u001b[0mdata\u001b[0m\u001b[0;34m=\u001b[0m\u001b[0mcar_brand\u001b[0m\u001b[0;34m[\u001b[0m\u001b[0;34m'sales_data'\u001b[0m\u001b[0;34m]\u001b[0m\u001b[0;34m.\u001b[0m\u001b[0mvalue_counts\u001b[0m\u001b[0;34m(\u001b[0m\u001b[0;34m)\u001b[0m\u001b[0;34m\u001b[0m\u001b[0;34m\u001b[0m\u001b[0m\n\u001b[0m\u001b[1;32m     15\u001b[0m \u001b[0mlabel\u001b[0m\u001b[0;34m=\u001b[0m\u001b[0mcar_brand\u001b[0m\u001b[0;34m\u001b[0m\u001b[0;34m\u001b[0m\u001b[0m\n\u001b[1;32m     16\u001b[0m \u001b[0mplt\u001b[0m\u001b[0;34m.\u001b[0m\u001b[0mfigure\u001b[0m\u001b[0;34m(\u001b[0m\u001b[0mdpi\u001b[0m\u001b[0;34m=\u001b[0m\u001b[0;36m100\u001b[0m\u001b[0;34m)\u001b[0m\u001b[0;34m\u001b[0m\u001b[0;34m\u001b[0m\u001b[0m\n",
            "\u001b[0;31mNameError\u001b[0m: name 'car_brand' is not defined"
          ]
        }
      ]
    },
    {
      "cell_type": "code",
      "source": [
        "data = sales_data.loc[sales_data[''].value_counts()\n",
        "explode = np.linspace(0.1, 0.0, 0.2, 0.3, 0.0, 0.0) \n",
        "plt.figure(dpi=102)\n",
        "plt.title(\"Percentage of Luxury car sales\")\n",
        "plt.pie(data, labels=data.index, \n",
        "        explode=explode, autopct='%1.2f%%',\n",
        "        startangle=30, \n",
        "        shadow=True,\n",
        "        wedgeprops={'edgecolor':'r'})\n",
        "\n",
        "plt.show()\n",
        "\n"
      ],
      "metadata": {
        "id": "aOUJxOQpsJSQ"
      },
      "execution_count": null,
      "outputs": []
    },
    {
      "cell_type": "markdown",
      "metadata": {
        "id": "hRdv4YzLnH4M"
      },
      "source": [
        "---"
      ]
    },
    {
      "cell_type": "markdown",
      "metadata": {
        "id": "06lsUkrnoNLc"
      },
      "source": [
        "### Activity 2: Create a bell curve\n",
        "\n",
        "Given a numpy array containing 100 random values stored in variable `rand_array`, write your code to plot a bell curve for the random values without displaying the histogram in the plot. \n",
        "\n",
        "`rand_array = np.random.randn(100)`\n",
        "\n",
        "**The `randn()` function**: It is the function of `numpy` that generates an array of shape `(d0, d1, ..., dn)`, filled with random floats sampled from a univariate normal (Gaussian) distribution of mean 0 and variance 1.\n"
      ]
    },
    {
      "cell_type": "code",
      "metadata": {
        "id": "3SbKh8NgnHDB",
        "outputId": "776522d3-bb9e-4ff6-c9a1-f18f55bdf444",
        "colab": {
          "base_uri": "https://localhost:8080/",
          "height": 391
        }
      },
      "source": [
        "import numpy as np\n",
        "# Import the 'matplotlib.pyplot' and 'seaborn' modules.\n",
        "import pandas as pd\n",
        "import matplotlib.pyplot as plt\n",
        "import seaborn as sns\n",
        "height_mean = 165\n",
        "height_std = 15\n",
        "heights = np.random.normal(height_mean , height_std , 100)\n",
        "heights[:10]\n",
        "# Array containing 100 normally distributed values\n",
        "rand_array = np.random.randn(100)\n",
        "plt.figure(figsize=(18,5))\n",
        "plt.title('bell curve of random values')\n",
        "sns.distplot(heights, bins='sturges',hist=False) \n",
        "plt.axvline(np.mean(heights), color='blue', label=f'Mean height = {np.mean(heights):.2f} cm', linewidth=2) \n",
        "plt.legend()\n",
        "plt.show()\n",
        "# Create the bell curve using the 'distplot()' function of the 'seaborn' module.\n"
      ],
      "execution_count": null,
      "outputs": [
        {
          "output_type": "stream",
          "name": "stderr",
          "text": [
            "/usr/local/lib/python3.7/dist-packages/seaborn/distributions.py:2619: FutureWarning: `distplot` is a deprecated function and will be removed in a future version. Please adapt your code to use either `displot` (a figure-level function with similar flexibility) or `kdeplot` (an axes-level function for kernel density plots).\n",
            "  warnings.warn(msg, FutureWarning)\n"
          ]
        },
        {
          "output_type": "display_data",
          "data": {
            "image/png": "[encoded data removed]",
            "text/plain": [
              "<Figure size 1296x360 with 1 Axes>"
            ]
          },
          "metadata": {
            "needs_background": "light"
          }
        }
      ]
    },
    {
      "cell_type": "markdown",
      "metadata": {
        "id": "1Vx65kAMryuB"
      },
      "source": [
        "---"
      ]
    },
    {
      "cell_type": "markdown",
      "metadata": {
        "id": "VxlyN4rRTnxD"
      },
      "source": [
        "### Submitting the Project\n",
        "\n",
        "Follow the steps described below to submit the project.\n",
        "\n",
        "1. After finishing the project, click on the **Share** button on the top right corner of the notebook. A new dialog box will appear.\n",
        "\n",
        "  <img src='https://student-datasets-bucket.s3.ap-south-1.amazonaws.com/images/project-share-images/2_share_button.png' width=500>\n",
        "\n",
        "2. In the dialog box, click on the **Copy link** button.\n",
        "\n",
        "   <img src='https://student-datasets-bucket.s3.ap-south-1.amazonaws.com/images/project-share-images/3_copy_link.png' width=500>\n",
        "\n",
        "\n",
        "3. The link of the duplicate copy (named as **YYYY-MM-DD_StudentName_Project45**) of the notebook will get copied \n",
        "\n",
        "   <img src='https://student-datasets-bucket.s3.ap-south-1.amazonaws.com/images/project-share-images/4_copy_link_confirmation.png' width=500>\n",
        "\n",
        "4. Go to your dashboard and click on the **My Projects** option.\n",
        "\n",
        "   <img src='https://student-datasets-bucket.s3.ap-south-1.amazonaws.com/images/project-share-images/5_student_dashboard.png' width=800>\n",
        "\n",
        "   <img src='https://student-datasets-bucket.s3.ap-south-1.amazonaws.com/images/project-share-images/6_my_projects.png' width=800>\n",
        "\n",
        "5. Click on the **View Project** button for the project you want to submit.\n",
        "\n",
        "   <img src='https://student-datasets-bucket.s3.ap-south-1.amazonaws.com/images/project-share-images/7_view_project.png' width=800>\n",
        "\n",
        "6. Click on the **Submit Project Here** button.\n",
        "\n",
        "   <img src='https://student-datasets-bucket.s3.ap-south-1.amazonaws.com/images/project-share-images/8_submit_project.png' width=800>\n",
        "\n",
        "7. Paste the link to the project file named as **YYYY-MM-DD_StudentName_Project45** in the URL box and then click on the **Submit** button.\n",
        "\n",
        "   <img src='https://student-datasets-bucket.s3.ap-south-1.amazonaws.com/images/project-share-images/9_enter_project_url.png' width=800>\n"
      ]
    },
    {
      "cell_type": "markdown",
      "metadata": {
        "id": "2wIRf9FcTmiD"
      },
      "source": [
        "---"
      ]
    }
  ]
}