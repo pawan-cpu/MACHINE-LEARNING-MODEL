{
  "nbformat": 4,
  "nbformat_minor": 0,
  "metadata": {
    "colab": {
      "provenance": [],
      "collapsed_sections": [],
      "include_colab_link": true
    },
    "kernelspec": {
      "name": "python3",
      "display_name": "Python 3"
    }
  },
  "cells": [
    {
      "cell_type": "markdown",
      "metadata": {
        "id": "view-in-github",
        "colab_type": "text"
      },
      "source": [
        "<a href=\"https://colab.research.google.com/github/pawan-cpu/MACHINE-LEARNING-MODEL/blob/main/OOP_ENCAPSULATION_II__NasscomAIFC_Project_48_v1.ipynb\" target=\"_parent\"><img src=\"https://colab.research.google.com/assets/colab-badge.svg\" alt=\"Open In Colab\"/></a>"
      ]
    },
    {
      "cell_type": "markdown",
      "metadata": {
        "id": "UYmMpXkNw9I6"
      },
      "source": [
        "### Instructions"
      ]
    },
    {
      "cell_type": "markdown",
      "metadata": {
        "id": "64Zy490qzVsZ"
      },
      "source": [
        "#### Goal of the Project\n",
        "\n",
        "This project is designed for you to practice and solve the activities that are based on the concepts covered in the following lessons:\n",
        "\n",
        " 1. Python Dictionary\n",
        "\n",
        " 2. Classes and Objects\n",
        "\n",
        " 3. Encapsulation"
      ]
    },
    {
      "cell_type": "markdown",
      "metadata": {
        "id": "dSRd3do_m_M4"
      },
      "source": [
        "---"
      ]
    },
    {
      "cell_type": "markdown",
      "metadata": {
        "id": "8uomGprbt90H"
      },
      "source": [
        "#### Getting Started:\n",
        "\n",
        "1. Click on this link to open the Colab file for this project.\n",
        "\n",
        "   https://colab.research.google.com/drive/1uTx47tuQ2yxVE1346MwdJEzifMsMd5So\n",
        "\n",
        "2. Create a duplicate copy of the Colab file as described below.\n",
        "\n",
        "  - Click on the **File menu**. A new drop-down list will appear.\n",
        "\n",
        "   <img src='https://student-datasets-bucket.s3.ap-south-1.amazonaws.com/images/lesson-0/0_file_menu.png' width=500>\n",
        "\n",
        "  - Click on the **Save a copy in Drive** option. A duplicate copy will get created. It will open up in the new tab on your web browser.\n",
        "\n",
        "  <img src='https://student-datasets-bucket.s3.ap-south-1.amazonaws.com/images/lesson-0/1_create_colab_duplicate_copy.png' width=500>\n",
        "\n",
        "3. After creating the duplicate copy of the notebook, please rename it in the **YYYY-MM-DD_StudentName_Project55** format.\n",
        "\n",
        "4. Now, write your code in the prescribed code cells.\n"
      ]
    },
    {
      "cell_type": "markdown",
      "metadata": {
        "id": "XBXnffQAuGij"
      },
      "source": [
        "---"
      ]
    },
    {
      "cell_type": "markdown",
      "metadata": {
        "id": "2i36Yv3-MPY5"
      },
      "source": [
        "### Problem Statement \n",
        "\n",
        "\n",
        "In this project, create a small Hospital Management application using the concept of **Object Oriented Programming**. \n",
        "\n",
        "Ask the user to enter a number from 1, 2, 3, 4, or 9. These numbers indicate the following options: \n",
        "\n",
        "  - **1: Display List of all Doctors** $\\Longrightarrow$ Displays a list of all the doctors in the hospital and their specialty.\n",
        "\n",
        "  - **2: Display List of all Patients** $\\Longrightarrow$ Displays a list of all the patients in the hospital and the disease from which they are suffering.\n",
        "\n",
        "  - **3: Add a Doctor** $\\Longrightarrow$ Adds a new doctor.\n",
        "\n",
        "  - **4: Add a Patient** $\\Longrightarrow$ Adds a new patient. \n",
        "    \n",
        "  - **9: Quit** $\\Longrightarrow$ Quits the application.\n",
        "\n",
        "\n",
        "  "
      ]
    },
    {
      "cell_type": "markdown",
      "metadata": {
        "id": "YUVCq0gkq1BZ"
      },
      "source": [
        "---"
      ]
    },
    {
      "cell_type": "markdown",
      "metadata": {
        "id": "toeLx5LJpIV-"
      },
      "source": [
        "### List of Activities\n",
        "\n",
        "**Activity 1:** Create a class `Doctor`.\n",
        "\n",
        "**Activity 2:** Create a class `Patient`.\n",
        "\n",
        "**Activity 3:** Create Objects and Call the Functions\n",
        "\n",
        "\n"
      ]
    },
    {
      "cell_type": "markdown",
      "metadata": {
        "id": "seBJxEBPq3PV"
      },
      "source": [
        "---"
      ]
    },
    {
      "cell_type": "markdown",
      "metadata": {
        "id": "j5RcICzZlJeZ"
      },
      "source": [
        "#### Activity 1: Create a class `Doctor`\n",
        "\n",
        "1. Create a class `Doctor`. Inside this class, create a dictionary to store the name of doctors (as key) and their specialisations (as its value). \n",
        "\n",
        "2. The constructor of the class `Doctor` must initialise the following **private** variables:\n",
        "\n",
        "  - `emp_id`: Employee id of the doctor.\n",
        "\n",
        "  - `name`: Name of the doctor.\n",
        "\n",
        "  - `salary`: Salary of the doctor.\n",
        "\n",
        "  - `specialisation`: Specialisation of the doctor.\n",
        "\n",
        "2. The constructor should also call a **class method** `add_doctor()` which will add the newly created object of `Doctor` class to the dictionary.\n",
        "   \n",
        "3. Add getter functions for each of the private variables and 1 setter function to update the salary.\n",
        "\n",
        "4. Add one more class method to simply display the list of doctors and their specialisations by displaying the contents of the dictionary.\n",
        "\n"
      ]
    },
    {
      "cell_type": "code",
      "metadata": {
        "id": "g0LB4jijVd3l"
      },
      "source": [
        "#  Create class 'Doctor'. Add constructor, getter functions and class methods\n",
        "\n",
        "class Doctor:\n",
        "  doctors_dict= {\"pawan\":\"Surgeon\",\n",
        "                                \"Dr. Prakash M. Doshi\":\"Orthopedist\",\n",
        "                                \"Dr. Snehal Jhaveri\": \"Pediatrician\"}\n",
        "                           \n",
        "  def __init__(self,emp_id, name,specialisation,salary):\n",
        "    self.__name = name \n",
        "    self.__emp_id = emp_id  \n",
        "    self.__salary = salary \n",
        "    self.__specialisation = specialisation\n",
        "    Doctor.add_doctor(name,specialisation)\n",
        "    \n",
        "\n",
        "  def get_emp_id(self):\n",
        "  \treturn self.__emp_id\n",
        "  \n",
        "  def get_name(self):\n",
        "    return self.__name\n",
        "  \n",
        "  def get_specialisation(self):\n",
        "    return self.__specialisation\n",
        "  \n",
        "  def get_salary(self):\n",
        "    return self.__salary\n",
        "  \n",
        "  def set_salary(self, new_salary):\n",
        "    self.__salary=new_salary\n",
        "\n",
        "  @classmethod\n",
        "  def add_doctor(cls, name,specialisation):\n",
        "    cls.doctors_dict[name.title()] = specialisation.title()\n",
        "\n",
        "  @classmethod\n",
        "  def display_doctors(cls):\n",
        "    return cls.doctors_dict\n",
        "    "
      ],
      "execution_count": null,
      "outputs": []
    },
    {
      "cell_type": "code",
      "source": [
        "#obj=Doctor(100,'Suhil',180000,'ortho')"
      ],
      "metadata": {
        "id": "mZwG4v6dfZyy"
      },
      "execution_count": null,
      "outputs": []
    },
    {
      "cell_type": "markdown",
      "metadata": {
        "id": "ZdXklYTDrKFS"
      },
      "source": [
        "---"
      ]
    },
    {
      "cell_type": "markdown",
      "metadata": {
        "id": "WCmI9RJ5nhkA"
      },
      "source": [
        "####Activity 2: Create a class `Patient`\n",
        "\n",
        "1. Create a class `Patient`.  Inside this class, create a dictionary to store the name of patients (as key) and their disease (as its value). \n",
        "\n",
        "2. The constructor of the class `Patient` must initialise the following **private** variables:\n",
        "\n",
        "  - `name`: Name of the patient.\n",
        "\n",
        "  - `age`: Age of the patient.\n",
        "\n",
        "  - `disease`: Disease of the patient.\n",
        "\n",
        "3. The constructor should also call a **class method** `add_patient()` which will add the newly created object of `Patient` class to the dictionary.\n",
        "   \n",
        "3. Add getter functions for each of the private variables.\n",
        "\n",
        "4. Add one more class method to simply display the list of patients and their disease by displaying the contents of the dictionary."
      ]
    },
    {
      "cell_type": "code",
      "metadata": {
        "id": "uV_EvB_kYm3Y"
      },
      "source": [
        "#  Create class 'Patient'. Add constructor and functions\n",
        "class Patient:\n",
        "\n",
        "  patient_dict= {\"John\":\"Heart Disease\",\n",
        "                        \"Sarah\":\"Arthiritis\",\n",
        "                        \"Anna\":\"Kidney Disease\"}\n",
        "  \n",
        "  def __init__(self,name,age,disease):\n",
        "    self.__name = name\n",
        "    self.__age = age\n",
        "    self.__disease = disease\n",
        "    \n",
        "    Patient.add_patient(name,disease)\n",
        "\n",
        "  def get_name(self):\n",
        "    return self.__name\n",
        "\n",
        "  def get_age(self):\n",
        "    return self.__age\n",
        "\n",
        "  def get_disease(self):\n",
        "    return self.__disease\n",
        "   \n",
        "\n",
        "  @classmethod\n",
        "  def add_patient(cls, name, disease):\n",
        "    cls.patient_dict[name] = disease\n",
        "  \n",
        "  @classmethod\n",
        "  def display_patients(cls):\n",
        "    return cls.patient_dict"
      ],
      "execution_count": null,
      "outputs": []
    },
    {
      "cell_type": "markdown",
      "metadata": {
        "id": "knB5aLw3rMQ6"
      },
      "source": [
        "---"
      ]
    },
    {
      "cell_type": "markdown",
      "metadata": {
        "id": "rl-1j6RYQsYb"
      },
      "source": [
        "#### Activity 3: Create Objects and Call the Functions\n",
        "\n",
        "Initialise a variable `empid` with any value of your choice. Create an infinite `while` loop. Inside this `while` loop perform the following tasks:\n",
        "1. Display the following list of choices:\n",
        "\n",
        "```\n",
        "Enter :\n",
        "        1 to Display all the Doctors and their Specialisations\n",
        "        2 to Display the list of patients and their disease\n",
        "        3 to Add a Doctor \n",
        "        4 to Add a Patient \n",
        "        9 to QUIT the application\n",
        "```\n",
        "\n",
        "2. Take user input and store it in a variable `user_choice`. Check whether the user entered any input other than 1, 2, 3, 4 or 9. If yes, then display a message \"Please enter a valid option\" and keep on asking for user input unless the user enters a valid choice.\n",
        "\n",
        "3. Now using the `if-elif-else` statement, check user input and perform the following tasks:\n",
        "\n",
        "  - If `user_choice==1`, call the class method of `Doctor` class which displays the list of doctors along with their specialisation.\n",
        "\n",
        "  - If `user_choice==2`, call the class method of `Patient` class which displays the list of patients along with their disease.\n",
        "\n",
        "  - If `user_choice==3`, ask the user to enter the name, salary, specialisation of the doctor and create an object of `Doctor` class by passing the entered details. Also increment the value of the `empid` variable and pass it while creating the object of `Doctor` class.\n",
        "      * Print the data of the newly created object using getter functions of `Doctor` class.\n",
        "      * Ask the user if it wishes to update the salary of the doctor. If yes, then call the setter function of the private variable `salary` to modify the salary of the doctor.\n",
        " \n",
        "  - If `user_choice==4`, ask the user to enter the name, age, disease of the patient and create an object of `Patient` class by passing the entered details. Print the data of the newly created object using getter functions of the `Patient` class.\n",
        "  - If `user_choice==9`, break the infinite while loop using the `break` statement.\n",
        "\n"
      ]
    },
    {
      "cell_type": "code",
      "metadata": {
        "id": "mpqUjEJ-c60B",
        "colab": {
          "base_uri": "https://localhost:8080/"
        },
        "outputId": "a18acb0d-d8fb-4327-8397-3a7faa45ea84"
      },
      "source": [
        "# Create infinite while loop\n",
        "emp_id = 100\n",
        "while True:\n",
        "    print(\"\"\"\n",
        "    Please enter:\n",
        "        1 to Display all the Doctors and their Specialisations\n",
        "        2 to Display the list of patients and their disease\n",
        "        3 to Add a Doctor \n",
        "        4 to Add a Patient \n",
        "        9 to QUIT the application\n",
        "        \"\"\")\n",
        "\n",
        " # If the user enters an invalid option print an error message .\n",
        "    user_choice = input()\n",
        "    while user_choice not in ['1', '2', '3', '4','9']:\n",
        "        print(\"Please enter a valid option.\")\n",
        "        user_choice = input()\n",
        "\n",
        "    if user_choice == '1':\n",
        "        print(Doctor.display_doctors())\n",
        "    \n",
        "    elif user_choice == '2':\n",
        "        print(Patient.display_patients())\n",
        "\n",
        "    elif user_choice == '3':\n",
        "        name = input(\"Enter the name of the Doctor:\\n\")\n",
        "        specialty = input(\"Enter the specialisation of the Doctor:\\n\")\n",
        "        salary = float(input(\"Enter the salary of the Doctor:\\n\"))\n",
        "        emp_id = emp_id + 10\n",
        "        doc = Doctor(emp_id,name,specialty,salary)\n",
        "        print(\"Following data has been added:\\n Employee ID: {}\\nDoctor name: {}\\nSpecialty: {}\\nSalary: {:,}\".format(doc.get_emp_id(),doc.get_name(), \n",
        "                                                                                doc.get_specialisation(), \n",
        "                                                                                doc.get_salary()))\n",
        "     \n",
        "        update_choice=int(input(\"Do you wish to update the salary\\n Enter 1 for YES \\n Enter 2 for NO \"))\n",
        "        if update_choice== 1:\n",
        "          new_salary=float(input(\"Enter the new salary\"))\n",
        "          doc.set_salary(new_salary)\n",
        "          print(\"Salary is successfully updated\")\n",
        "        print(\"Employee ID: {}\\n Doctor name: {}\\nSpecialty: {}\\nSalary: {:,}\".format(doc.get_emp_id(),doc.get_name(), \n",
        "                                                                                doc.get_specialisation(), \n",
        "                                                                                doc.get_salary()))\n",
        "       \n",
        "\n",
        "  \n",
        "\n",
        "    elif user_choice == '4':\n",
        "        name = input(\"Enter the name of the Patient:\\n\")\n",
        "        age = int(input(\"Enter the age of the Patient:\\n\"))              \n",
        "        disease = input(\"Enter the name of the disease for which the patient has to be diagnosed\")\n",
        "        patient = Patient(name,age,disease)\n",
        "        print(Patient.display_patients())\n",
        "        print(\"Following data has been added: \\nPatient name: {}\\nAge: {}\\nDisease: {}\".format(patient.get_name(), \n",
        "                                                                                patient.get_age(), \n",
        "                                                                                patient.get_disease()))\n",
        "        print(Patient.display_patients())\n",
        "        \n",
        "  \n",
        "\n",
        "    elif user_choice == '9':\n",
        "        break"
      ],
      "execution_count": null,
      "outputs": [
        {
          "name": "stdout",
          "output_type": "stream",
          "text": [
            "\n",
            "    Please enter:\n",
            "        1 to Display all the Doctors and their Specialisations\n",
            "        2 to Display the list of patients and their disease\n",
            "        3 to Add a Doctor \n",
            "        4 to Add a Patient \n",
            "        9 to QUIT the application\n",
            "        \n",
            "1\n",
            "{'Dr. Manmohan Kamat': 'Surgeon', 'Dr. Prakash M. Doshi': 'Orthopedist', 'Dr. Snehal Jhaveri': 'Pediatrician'}\n",
            "\n",
            "    Please enter:\n",
            "        1 to Display all the Doctors and their Specialisations\n",
            "        2 to Display the list of patients and their disease\n",
            "        3 to Add a Doctor \n",
            "        4 to Add a Patient \n",
            "        9 to QUIT the application\n",
            "        \n",
            "9\n"
          ]
        }
      ]
    },
    {
      "cell_type": "markdown",
      "metadata": {
        "id": "gJ49xrTorOiU"
      },
      "source": [
        "---"
      ]
    },
    {
      "cell_type": "markdown",
      "metadata": {
        "id": "CF4gdvH3uKR0"
      },
      "source": [
        "### Submitting the Project:\n",
        "\n",
        "1. After finishing the project, click on the **Share** button on the top right corner of the notebook. A new dialog box will appear.\n",
        "\n",
        "  <img src='https://student-datasets-bucket.s3.ap-south-1.amazonaws.com/images/project-share-images/2_share_button.png' width=500>\n",
        "\n",
        "2. In the dialog box, make sure that '**Anyone on the Internet with this link can view**' option is selected and then click on the **Copy link** button.\n",
        "\n",
        "   <img src='https://student-datasets-bucket.s3.ap-south-1.amazonaws.com/images/project-share-images/3_copy_link.png' width=500>\n",
        "\n",
        "3. The link of the duplicate copy (named as **YYYY-MM-DD_StudentName_Project55**) of the notebook will get copied \n",
        "\n",
        "   <img src='https://student-datasets-bucket.s3.ap-south-1.amazonaws.com/images/project-share-images/4_copy_link_confirmation.png' width=500>\n",
        "\n",
        "4. Go to your dashboard and click on the **My Projects** option.\n",
        "   \n",
        "   <img src='https://student-datasets-bucket.s3.ap-south-1.amazonaws.com/images/project-share-images/5_student_dashboard.png' width=800>\n",
        "\n",
        "  <img src='https://student-datasets-bucket.s3.ap-south-1.amazonaws.com/images/project-share-images/6_my_projects.png' width=800>\n",
        "\n",
        "5. Click on the **View Project** button for the project you want to submit.\n",
        "\n",
        "   <img src='https://student-datasets-bucket.s3.ap-south-1.amazonaws.com/images/project-share-images/7_view_project.png' width=800>\n",
        "\n",
        "6. Click on the **Submit Project Here** button.\n",
        "\n",
        "   <img src='https://student-datasets-bucket.s3.ap-south-1.amazonaws.com/images/project-share-images/8_submit_project.png' width=800>\n",
        "\n",
        "7. Paste the link to the project file named as **YYYY-MM-DD_StudentName_Project55** in the URL box and then click on the **Submit** button.\n",
        "\n",
        "   <img src='https://student-datasets-bucket.s3.ap-south-1.amazonaws.com/images/project-share-images/9_enter_project_url.png' width=800> "
      ]
    },
    {
      "cell_type": "markdown",
      "metadata": {
        "id": "M2-hFdm58w7K"
      },
      "source": [
        "---"
      ]
    }
  ]
}